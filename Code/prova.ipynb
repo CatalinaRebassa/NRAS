{
 "cells": [
  {
   "cell_type": "code",
   "execution_count": 3,
   "metadata": {},
   "outputs": [],
   "source": [
    "from rdkit import Chem\n",
    "from rdkit.Chem import SDMolSupplier\n",
    "import pandas as pd\n",
    "\n",
    "database = Chem.SDMolSupplier('../Data/prova_bindingDB.sdf')"
   ]
  },
  {
   "cell_type": "code",
   "execution_count": 24,
   "metadata": {},
   "outputs": [],
   "source": [
    "#Create a dataframe\n",
    "from rdkit import Chem\n",
    "from rdkit.Chem import Crippen, Descriptors\n",
    "#from rdkit_forchemprop import features (tenim aquesta funció en un altre document, mirar que hi passa)\n",
    "\n",
    "def features(mol,data):\n",
    "    #Extract properties using RDKit functions\n",
    "    #mol_name = mol.GetProp('Target Name')\n",
    "    smiles = Chem.MolToSmiles(mol)\n",
    "    formula = Chem.rdMolDescriptors.CalcMolFormula(mol)\n",
    "    mw= Chem.rdMolDescriptors.CalcExactMolWt(mol)\n",
    "    logp= Crippen.MolLogP(mol)\n",
    "    num_hbd = Chem.rdMolDescriptors.CalcNumHBD(mol)\n",
    "    num_hba = Chem.rdMolDescriptors.CalcNumHBA(mol)\n",
    "    tpsa = Chem.rdMolDescriptors.CalcTPSA(mol)\n",
    "    num_rb = Chem.rdMolDescriptors.CalcNumRotatableBonds(mol)\n",
    "    ic50 = mol.GetProp('IC50 (nM)')\n",
    "\n",
    "    #Append results in a data list\n",
    "    data.append([smiles,formula,mw,logp,num_hbd,num_hba,tpsa, num_rb,ic50])\n",
    "    return\n",
    "\n",
    "data = [ ]\n",
    "\n",
    "for mol in database:\n",
    "    features(mol,data)\n",
    "\n",
    "#We have a list with information. Creation of a Dataframe:\n",
    "df= pd.DataFrame(data,columns=['SMILES','Formula','MW','logP',\"H-bond donor\",\"H-bond acceptor\",\"TPSA\",\"Rotatable bonds\", \"ic50\"])"
   ]
  },
  {
   "cell_type": "code",
   "execution_count": 26,
   "metadata": {},
   "outputs": [
    {
     "name": "stdout",
     "output_type": "stream",
     "text": [
      "                                              SMILES        Formula  \\\n",
      "0  COc1cc2ncc(-c3cccc(N[C@@H]4CCNC4)n3)n2cc1-c1nn...      C18H19N9O   \n",
      "1  COc1cc2ncc(-c3cccc(N[C@@H]4CCNC4)n3)n2cc1-c1nn...      C18H19N9O   \n",
      "2  CCn1c(-c2cccnc2[C@H](C)OC)c2c3cc(ccc31)-c1cccc...     C56H72N8O7   \n",
      "3  CCn1c(-c2cccnc2[C@H](C)OC)c2c3cc(ccc31)-c1cccc...     C58H76N8O7   \n",
      "4  C=CC(=O)N1CC[C@H](C(=O)N(C)[C@H](C(=O)N[C@H]2C...     C51H66N8O8   \n",
      "5  C=CC(=O)Nc1ccc(C(=O)N(C)[C@H](C(=O)N[C@H]2Cc3c...     C52H62N8O8   \n",
      "6  CCn1c(-c2cccnc2[C@H](C)OC)c2c3cc(ccc31)-c1cc(O...     C56H72N8O9   \n",
      "7  CCn1c(-c2cccnc2[C@H](C)OC)c2c3cc(ccc31)-c1cccc...     C56H74N8O7   \n",
      "8  CO[C@@H](C)c1ncccc1-c1c2c3cc(ccc3n1CC(F)(F)F)-...  C51H65F3N8O7S   \n",
      "9  CO[C@@H](C)c1ncccc1-c1c2c3cc(ccc3n1CC(F)(F)F)-...   C54H67F4N7O7   \n",
      "\n",
      "            MW    logP  H-bond donor  H-bond acceptor    TPSA  \\\n",
      "0   377.171256  1.3588             3                9  117.94   \n",
      "1   377.171256  1.3588             3                9  117.94   \n",
      "2   968.552397  6.1751             2               11  158.65   \n",
      "3   996.583697  6.9553             2               11  158.65   \n",
      "4   918.500361  5.5445             3               12  180.57   \n",
      "5   926.469061  6.7679             4               12  197.32   \n",
      "6  1000.542226  5.1171             3               13  188.11   \n",
      "7   970.568047  6.4211             2               11  158.65   \n",
      "8   990.464902  6.5881             2               13  160.46   \n",
      "9  1001.503810  7.2707             2               11  147.57   \n",
      "\n",
      "   Rotatable bonds    ic50  \n",
      "0                5    2.00  \n",
      "1                5    2.00  \n",
      "2                9  <10.00  \n",
      "3               10  <10.00  \n",
      "4                9  <10.00  \n",
      "5               11  <10.00  \n",
      "6               10  <10.00  \n",
      "7               10  <10.00  \n",
      "8               11  <10.00  \n",
      "9               11  <10.00  \n"
     ]
    }
   ],
   "source": [
    "print(df.head(10))"
   ]
  }
 ],
 "metadata": {
  "kernelspec": {
   "display_name": "base",
   "language": "python",
   "name": "python3"
  },
  "language_info": {
   "codemirror_mode": {
    "name": "ipython",
    "version": 3
   },
   "file_extension": ".py",
   "mimetype": "text/x-python",
   "name": "python",
   "nbconvert_exporter": "python",
   "pygments_lexer": "ipython3",
   "version": "3.9.13"
  },
  "orig_nbformat": 4
 },
 "nbformat": 4,
 "nbformat_minor": 2
}
