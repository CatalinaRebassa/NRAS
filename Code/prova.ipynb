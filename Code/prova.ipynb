{
 "cells": [
  {
   "attachments": {},
   "cell_type": "markdown",
   "metadata": {},
   "source": [
    "1. A través de BindingDB em descarrego un arxiu SDF amb els inhibidors de NRAS. \n",
    "2. Creo un data frame a partir d'aquest archiu amb rdkid que conté els features de les molècules que tinc \n",
    "- Features utils??\n"
   ]
  },
  {
   "cell_type": "code",
   "execution_count": 60,
   "metadata": {},
   "outputs": [],
   "source": [
    "from rdkit import Chem\n",
    "from rdkit.Chem import SDMolSupplier\n",
    "import pandas as pd\n",
    "\n",
    "database = Chem.SDMolSupplier('../Data/prova_bindingDB.sdf')\n",
    "#database2 = Chem.SDMolSupplier('../Data/prova.sdf')"
   ]
  },
  {
   "cell_type": "code",
   "execution_count": 61,
   "metadata": {},
   "outputs": [],
   "source": [
    "#Create a dataframe\n",
    "from rdkit import Chem\n",
    "from rdkit.Chem import Crippen, Descriptors\n",
    "\n",
    "def descriptors(mol,data):\n",
    "    #Extract properties using RDKit functions\n",
    "    id = mol.GetProp('BindingDB Reactant_set_id')\n",
    "    smiles = Chem.MolToSmiles(mol)\n",
    "    formula = Chem.rdMolDescriptors.CalcMolFormula(mol)\n",
    "    mw = Descriptors.ExactMolWt(mol)\n",
    "    logp= Crippen.MolLogP(mol)\n",
    "    num_hbd = Descriptors.NumHDonors(mol)\n",
    "    num_hba = Descriptors.NumHAcceptors(mol)\n",
    "    tpsa = Descriptors.TPSA(mol)\n",
    "    num_rb = Descriptors.NumRotatableBonds(mol)\n",
    "    ic50 = mol.GetProp('IC50 (nM)')\n",
    "\n",
    "    #Append results in a data list\n",
    "    data.append([id,smiles,formula,mw,logp,num_hbd,num_hba,tpsa, num_rb,ic50])\n",
    "    return\n",
    "\n",
    "data = [ ]\n",
    "\n",
    "for mol in database:\n",
    "    descriptors(mol,data)\n",
    "\n",
    "#We have a list with information. Creation of a Dataframe:\n",
    "df= pd.DataFrame(data,columns=['ID','SMILES','Formula','MW','logP',\"H-bond donor\",\"H-bond acceptor\",\"TPSA\",\"Rotatable bonds\", \"ic50\"])"
   ]
  },
  {
   "cell_type": "code",
   "execution_count": 62,
   "metadata": {},
   "outputs": [
    {
     "name": "stdout",
     "output_type": "stream",
     "text": [
      "        ID                                             SMILES     Formula  \\\n",
      "0  1236930  COc1cc2ncc(-c3cccc(N[C@@H]4CCNC4)n3)n2cc1-c1nn...   C18H19N9O   \n",
      "1  1141761  COc1cc2ncc(-c3cccc(N[C@@H]4CCNC4)n3)n2cc1-c1nn...   C18H19N9O   \n",
      "2  1254286  CCn1c(-c2cccnc2[C@H](C)OC)c2c3cc(ccc31)-c1cccc...  C56H72N8O7   \n",
      "3  1254288  CCn1c(-c2cccnc2[C@H](C)OC)c2c3cc(ccc31)-c1cccc...  C58H76N8O7   \n",
      "4  1254296  C=CC(=O)N1CC[C@H](C(=O)N(C)[C@H](C(=O)N[C@H]2C...  C51H66N8O8   \n",
      "\n",
      "           MW    logP  H-bond donor  H-bond acceptor    TPSA  Rotatable bonds  \\\n",
      "0  377.171256  1.3588             3                9  117.94                5   \n",
      "1  377.171256  1.3588             3                9  117.94                5   \n",
      "2  968.552397  6.1751             2               11  158.65                9   \n",
      "3  996.583697  6.9553             2               11  158.65               10   \n",
      "4  918.500361  5.5445             3               12  180.57                9   \n",
      "\n",
      "     ic50  \n",
      "0    2.00  \n",
      "1    2.00  \n",
      "2  <10.00  \n",
      "3  <10.00  \n",
      "4  <10.00  \n"
     ]
    }
   ],
   "source": [
    "print(df.head(5))"
   ]
  },
  {
   "cell_type": "code",
   "execution_count": 68,
   "metadata": {},
   "outputs": [
    {
     "name": "stdout",
     "output_type": "stream",
     "text": [
      "100\n"
     ]
    }
   ],
   "source": [
    "#cuantes molecules tenim?\n",
    "import pandas as pd\n",
    "total_mol = len(df['ID'])\n",
    "print(total_mol)"
   ]
  },
  {
   "cell_type": "code",
   "execution_count": 63,
   "metadata": {},
   "outputs": [
    {
     "name": "stdout",
     "output_type": "stream",
     "text": [
      "         ID                                             SMILES        Formula  \\\n",
      "0   1236930  COc1cc2ncc(-c3cccc(N[C@@H]4CCNC4)n3)n2cc1-c1nn...      C18H19N9O   \n",
      "2   1254286  CCn1c(-c2cccnc2[C@H](C)OC)c2c3cc(ccc31)-c1cccc...     C56H72N8O7   \n",
      "3   1254288  CCn1c(-c2cccnc2[C@H](C)OC)c2c3cc(ccc31)-c1cccc...     C58H76N8O7   \n",
      "4   1254296  C=CC(=O)N1CC[C@H](C(=O)N(C)[C@H](C(=O)N[C@H]2C...     C51H66N8O8   \n",
      "5   1254300  C=CC(=O)Nc1ccc(C(=O)N(C)[C@H](C(=O)N[C@H]2Cc3c...     C52H62N8O8   \n",
      "6   1254301  CCn1c(-c2cccnc2[C@H](C)OC)c2c3cc(ccc31)-c1cc(O...     C56H72N8O9   \n",
      "7   1254303  CCn1c(-c2cccnc2[C@H](C)OC)c2c3cc(ccc31)-c1cccc...     C56H74N8O7   \n",
      "8   1254307  CO[C@@H](C)c1ncccc1-c1c2c3cc(ccc3n1CC(F)(F)F)-...  C51H65F3N8O7S   \n",
      "9   1254312  CO[C@@H](C)c1ncccc1-c1c2c3cc(ccc3n1CC(F)(F)F)-...   C54H67F4N7O7   \n",
      "10  1254315  CCn1c(-c2cccnc2[C@H](C)OC)c2c3cc(ccc31)-c1cccc...     C57H72N8O8   \n",
      "\n",
      "             MW    logP  H-bond donor  H-bond acceptor    TPSA  \\\n",
      "0    377.171256  1.3588             3                9  117.94   \n",
      "2    968.552397  6.1751             2               11  158.65   \n",
      "3    996.583697  6.9553             2               11  158.65   \n",
      "4    918.500361  5.5445             3               12  180.57   \n",
      "5    926.469061  6.7679             4               12  197.32   \n",
      "6   1000.542226  5.1171             3               13  188.11   \n",
      "7    970.568047  6.4211             2               11  158.65   \n",
      "8    990.464902  6.5881             2               13  160.46   \n",
      "9   1001.503810  7.2707             2               11  147.57   \n",
      "10   996.547311  6.0457             2               12  167.88   \n",
      "\n",
      "    Rotatable bonds    ic50  \n",
      "0                 5    2.00  \n",
      "2                 9  <10.00  \n",
      "3                10  <10.00  \n",
      "4                 9  <10.00  \n",
      "5                11  <10.00  \n",
      "6                10  <10.00  \n",
      "7                10  <10.00  \n",
      "8                11  <10.00  \n",
      "9                11  <10.00  \n",
      "10                9  <10.00  \n"
     ]
    }
   ],
   "source": [
    "# Eliminar duplicats segons la columna \"Formula\"\n",
    "df_2 = df.drop_duplicates(subset=['Formula'])\n",
    "print(df_2.head(10))\n",
    "\n",
    "#PROBLEMA: veig que el ic50 a molts dona <10.00 i això no em permetra fer una classificacio\n"
   ]
  },
  {
   "cell_type": "code",
   "execution_count": 67,
   "metadata": {},
   "outputs": [
    {
     "name": "stdout",
     "output_type": "stream",
     "text": [
      "37\n"
     ]
    }
   ],
   "source": [
    "#cuantes molecules em queden al final despres de treure els duplicats?\n",
    "import pandas as pd\n",
    "total_mol2 = len(df_2['ID'])\n",
    "print(total_mol2)"
   ]
  },
  {
   "cell_type": "code",
   "execution_count": 64,
   "metadata": {},
   "outputs": [
    {
     "name": "stdout",
     "output_type": "stream",
     "text": [
      "                MW       logP  H-bond donor  H-bond acceptor        TPSA  \\\n",
      "count    37.000000  37.000000     37.000000        37.000000   37.000000   \n",
      "mean    946.484822   5.688476      2.567568        12.000000  170.253784   \n",
      "std     101.710710   1.159538      0.647239         0.971825   17.419861   \n",
      "min     377.171256   1.358800      2.000000         9.000000  117.940000   \n",
      "25%     937.488416   5.432900      2.000000        11.000000  158.650000   \n",
      "50%     957.536412   5.725700      2.000000        12.000000  171.540000   \n",
      "75%     986.526576   6.386100      3.000000        13.000000  180.770000   \n",
      "max    1028.573526   7.270700      4.000000        13.000000  202.250000   \n",
      "\n",
      "       Rotatable bonds  \n",
      "count        37.000000  \n",
      "mean          9.945946  \n",
      "std           1.311190  \n",
      "min           5.000000  \n",
      "25%           9.000000  \n",
      "50%          10.000000  \n",
      "75%          11.000000  \n",
      "max          13.000000  \n"
     ]
    }
   ],
   "source": [
    "#summary de les variables que he obtingut amb RDKit\n",
    " \n",
    "import pandas as pd\n",
    "summary = df_2.describe()\n",
    "print(summary)\n",
    "\n",
    "\n"
   ]
  }
 ],
 "metadata": {
  "kernelspec": {
   "display_name": "base",
   "language": "python",
   "name": "python3"
  },
  "language_info": {
   "codemirror_mode": {
    "name": "ipython",
    "version": 3
   },
   "file_extension": ".py",
   "mimetype": "text/x-python",
   "name": "python",
   "nbconvert_exporter": "python",
   "pygments_lexer": "ipython3",
   "version": "3.9.13"
  },
  "orig_nbformat": 4
 },
 "nbformat": 4,
 "nbformat_minor": 2
}
