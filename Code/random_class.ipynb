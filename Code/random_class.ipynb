{
 "cells": [
  {
   "cell_type": "code",
   "execution_count": 7,
   "metadata": {},
   "outputs": [
    {
     "name": "stdout",
     "output_type": "stream",
     "text": [
      "                                                SMILES  Peso Molecular  \\\n",
      "0      COc1cc2ncc(-c3cccc(NC4CCNC4)n3)n2cc1-c1cn[nH]c1      375.180758   \n",
      "1        COc1cc2ncc(-c3cccc(NC4CCNC4)n3)n2cc1-c1cccnc1      386.185509   \n",
      "2        COc1cc2ncc(-c3cccc(NC4CCNC4)n3)n2cc1-c1ccncc1      386.185509   \n",
      "3    Cc1n[nH]c(C)c1-c1cn2c(cnc2cc1CO)-c1cccc(NC2CCN...      403.212058   \n",
      "4    COc1cc2ncc(-c3cccc(NC4CCNC4)n3)n2cc1-c1cnn(CCN...      488.264822   \n",
      "..                                                 ...             ...   \n",
      "648  CCn1c(c2CC(C)(C)COC(=O)[C@@H]3CCCN(N3)C(=O)[C@...      890.469061   \n",
      "649  CC(C)[C@H](N(C)C(=O)[C@H]1CCN(C1)C(=O)C=C)C(=O...      884.458496   \n",
      "650  CCn1c(c2CC(C)(C)COC(=O)[C@@H]3CCCN(N3)C(=O)[C@...      946.531661   \n",
      "651  CCn1c(c2CC(C)(C)COC(=O)[C@@H]3CCCN(N3)C(=O)[C@...      943.531996   \n",
      "652  OC[C@H]1O[C@H]([C@H](O)[C@@H](O)[C@@H]1O)N(CCO...      520.151551   \n",
      "\n",
      "        LogP  H-bond donor  H-bond acceptor    TPSA  Rotatable bonds  Random80  \n",
      "0    2.56880             3                7   92.16                5         0  \n",
      "1    3.24070             2                7   76.37                5         1  \n",
      "2    3.24070             2                7   76.37                5         1  \n",
      "3    2.66934             4                7  103.16                5         1  \n",
      "4    2.37440             2               10   93.77                8         1  \n",
      "..       ...           ...              ...     ...              ...       ...  \n",
      "648  4.80310             3               12  188.53               10         1  \n",
      "649  5.50048             3               11  190.20                8         1  \n",
      "650  5.33990             3               12  178.88               12         0  \n",
      "651  5.01350             3               12  172.89                9         1  \n",
      "652  0.51050             6               10  169.02                9         1  \n",
      "\n",
      "[653 rows x 8 columns]\n",
      "Index(['SMILES', 'Peso Molecular', 'LogP', 'H-bond donor', 'H-bond acceptor',\n",
      "       'TPSA', 'Rotatable bonds', 'Random80'],\n",
      "      dtype='object')\n"
     ]
    }
   ],
   "source": [
    "import pandas as pd\n",
    "import numpy as np\n",
    "\n",
    "df = pd.read_csv('../Data/pIC50_NRAS.csv')\n",
    "\n",
    "# Elimino columna pIC50\n",
    "\n",
    "delate_columns = ['pIC50', 'Formula']\n",
    "for column in delate_columns:\n",
    "    del df[column]\n",
    "\n",
    "# Definir la proporción deseada de 1s (80%)\n",
    "proporcion_unos = 0.8\n",
    "\n",
    "# Calcular el tamaño de la columna\n",
    "tamaño_columna = len(df)\n",
    "\n",
    "# Generar la columna con 80% de unos y el resto ceros\n",
    "random_class = np.random.choice([0, 1], size=tamaño_columna, p=[1-proporcion_unos, proporcion_unos])\n",
    "\n",
    "# Asignar la columna generada al DataFrame\n",
    "df['Random80'] = random_class\n",
    "\n",
    "print(df)\n",
    "print(df.columns)\n",
    "\n",
    "df.to_csv('../Data/R80_NRAS.csv', index=False)"
   ]
  }
 ],
 "metadata": {
  "kernelspec": {
   "display_name": "base",
   "language": "python",
   "name": "python3"
  },
  "language_info": {
   "codemirror_mode": {
    "name": "ipython",
    "version": 3
   },
   "file_extension": ".py",
   "mimetype": "text/x-python",
   "name": "python",
   "nbconvert_exporter": "python",
   "pygments_lexer": "ipython3",
   "version": "3.9.13"
  },
  "orig_nbformat": 4
 },
 "nbformat": 4,
 "nbformat_minor": 2
}
