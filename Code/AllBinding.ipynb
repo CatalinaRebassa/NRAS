{
 "cells": [
  {
   "cell_type": "code",
   "execution_count": 3,
   "metadata": {},
   "outputs": [],
   "source": [
    "\n",
    "from rdkit import Chem\n",
    "from rdkit.Chem import PandasTools\n",
    "\n",
    "sdf_file = '../../../../../data/BindingDB_All_2D.sdf'\n",
    "#sdf_file = '../Data/prova_bindingDB.sdf'\n",
    "mol_supplier = Chem.SDMolSupplier(sdf_file)\n",
    "df = PandasTools.LoadSDF(sdf_file)\n",
    "\n"
   ]
  },
  {
   "cell_type": "code",
   "execution_count": 8,
   "metadata": {},
   "outputs": [
    {
     "name": "stdout",
     "output_type": "stream",
     "text": [
      "Index(['From', 'BindingDB Reactant_set_id', 'Ligand InChI', 'Ligand InChI Key',\n",
      "       'BindingDB MonomerID', 'BindingDB Ligand Name',\n",
      "       'Target Name Assigned by Curator or DataSource',\n",
      "       'Target Source Organism According to Curator or DataSource', 'Ki (nM)',\n",
      "       'IC50 (nM)', 'Kd (nM)', 'EC50 (nM)', 'kon (M-1-s-1)', 'koff (s-1)',\n",
      "       'pH', 'Temp C', 'Curation/DataSource', 'Article DOI', 'PMID',\n",
      "       'PubChem AID', 'Patent Number', 'Authors', 'Institution',\n",
      "       'Link to Ligand in BindingDB',\n",
      "       'Link to Ligand-Target Pair in BindingDB', 'Ligand HET ID in PDB',\n",
      "       'PDB ID(s) for Ligand-Target Complex', 'PubChem CID', 'PubChem SID',\n",
      "       'ChEBI ID of Ligand', 'ChEMBL ID of Ligand', 'DrugBank ID of Ligand',\n",
      "       'IUPHAR_GRAC ID of Ligand', 'KEGG ID of Ligand', 'ZINC ID of Ligand',\n",
      "       'Number of Protein Chains in Target (bigger than 1 implies a multichain complex)',\n",
      "       'BindingDB Target Chain Sequence', 'PDB ID(s) of Target Chain',\n",
      "       'UniProt (SwissProt) Recommended Name of Target Chain',\n",
      "       'UniProt (SwissProt) Entry Name of Target Chain',\n",
      "       'UniProt (SwissProt) Primary ID of Target Chain',\n",
      "       'UniProt (SwissProt) Secondary ID(s) of Target Chain',\n",
      "       'UniProt (SwissProt) Alternative ID(s) of Target Chain',\n",
      "       'UniProt (TrEMBL) Submitted Name of Target Chain',\n",
      "       'UniProt (TrEMBL) Entry Name of Target Chain',\n",
      "       'UniProt (TrEMBL) Primary ID of Target Chain',\n",
      "       'UniProt (TrEMBL) Secondary ID(s) of Target Chain',\n",
      "       'UniProt (TrEMBL) Alternative ID(s) of Target Chain', 'ID', 'ROMol'],\n",
      "      dtype='object')\n"
     ]
    }
   ],
   "source": [
    "print(df.columns)"
   ]
  },
  {
   "cell_type": "code",
   "execution_count": 16,
   "metadata": {},
   "outputs": [
    {
     "name": "stdout",
     "output_type": "stream",
     "text": [
      "2405342\n"
     ]
    }
   ],
   "source": [
    "total_mol = len(df['From'])\n",
    "print(total_mol)"
   ]
  },
  {
   "cell_type": "code",
   "execution_count": 14,
   "metadata": {},
   "outputs": [
    {
     "name": "stdout",
     "output_type": "stream",
     "text": [
      "                From BindingDB Reactant_set_id  \\\n",
      "0  www.bindingDB.org                         1   \n",
      "\n",
      "                                        Ligand InChI  \\\n",
      "0  InChI=1S/C22H24BrFN4O2/c1-28-7-5-14(6-8-28)12-...   \n",
      "\n",
      "              Ligand InChI Key BindingDB MonomerID  \\\n",
      "0  UHTHHESEBZOYNR-UHFFFAOYSA-N                  21   \n",
      "\n",
      "                               BindingDB Ligand Name  \\\n",
      "0  6-[(4R,5S,6S,7R)-4,7-dibenzyl-3-(5-carboxypent...   \n",
      "\n",
      "  Target Name Assigned by Curator or DataSource  \\\n",
      "0                                HIV-1 Protease   \n",
      "\n",
      "  Target Source Organism According to Curator or DataSource Ki (nM) IC50 (nM)  \\\n",
      "0                     Human immunodeficiency virus 1           0.24             \n",
      "\n",
      "   ... UniProt (SwissProt) Primary ID of Target Chain  \\\n",
      "0  ...                                                  \n",
      "\n",
      "  UniProt (SwissProt) Secondary ID(s) of Target Chain  \\\n",
      "0                                                       \n",
      "\n",
      "  UniProt (SwissProt) Alternative ID(s) of Target Chain  \\\n",
      "0                                                         \n",
      "\n",
      "  UniProt (TrEMBL) Submitted Name of Target Chain  \\\n",
      "0                                                   \n",
      "\n",
      "  UniProt (TrEMBL) Entry Name of Target Chain  \\\n",
      "0                                               \n",
      "\n",
      "  UniProt (TrEMBL) Primary ID of Target Chain  \\\n",
      "0                                               \n",
      "\n",
      "  UniProt (TrEMBL) Secondary ID(s) of Target Chain  \\\n",
      "0                                                    \n",
      "\n",
      "  UniProt (TrEMBL) Alternative ID(s) of Target Chain       ID  \\\n",
      "0                                                     3081361   \n",
      "\n",
      "                                              ROMol  \n",
      "0  <rdkit.Chem.rdchem.Mol object at 0x7fa89a0a2430>  \n",
      "\n",
      "[1 rows x 50 columns]\n"
     ]
    }
   ],
   "source": [
    "print(df.head(1))"
   ]
  },
  {
   "cell_type": "code",
   "execution_count": 15,
   "metadata": {},
   "outputs": [
    {
     "name": "stdout",
     "output_type": "stream",
     "text": [
      "                      From BindingDB Reactant_set_id  \\\n",
      "2087000  www.bindingDB.org                  51029219   \n",
      "\n",
      "                                              Ligand InChI  \\\n",
      "2087000  InChI=1S/C24H28N2O9S/c27-14-20-21(28)22(29)23(...   \n",
      "\n",
      "                    Ligand InChI Key BindingDB MonomerID  \\\n",
      "2087000  KVPUAIYIBNDBLI-GNADVCDUSA-N            50421183   \n",
      "\n",
      "        BindingDB Ligand Name Target Name Assigned by Curator or DataSource  \\\n",
      "2087000         CHEMBL2086789                                   GTPase NRas   \n",
      "\n",
      "        Target Source Organism According to Curator or DataSource Ki (nM)  \\\n",
      "2087000                                       Homo sapiens                  \n",
      "\n",
      "        IC50 (nM)  ... UniProt (SwissProt) Primary ID of Target Chain  \\\n",
      "2087000       500  ...                                         P01111   \n",
      "\n",
      "        UniProt (SwissProt) Secondary ID(s) of Target Chain  \\\n",
      "2087000                               Q14971,Q15104,Q15282    \n",
      "\n",
      "        UniProt (SwissProt) Alternative ID(s) of Target Chain  \\\n",
      "2087000                                                         \n",
      "\n",
      "        UniProt (TrEMBL) Submitted Name of Target Chain  \\\n",
      "2087000                                                   \n",
      "\n",
      "        UniProt (TrEMBL) Entry Name of Target Chain  \\\n",
      "2087000                                               \n",
      "\n",
      "        UniProt (TrEMBL) Primary ID of Target Chain  \\\n",
      "2087000                                      Q5U091   \n",
      "\n",
      "        UniProt (TrEMBL) Secondary ID(s) of Target Chain  \\\n",
      "2087000                                                    \n",
      "\n",
      "        UniProt (TrEMBL) Alternative ID(s) of Target Chain ID  \\\n",
      "2087000                                                         \n",
      "\n",
      "                                                    ROMol  \n",
      "2087000  <rdkit.Chem.rdchem.Mol object at 0x7f979cf0d350>  \n",
      "\n",
      "[1 rows x 50 columns]\n"
     ]
    }
   ],
   "source": [
    "#filtrar les dades que contenguin NRAS\n",
    "keyword = \"GTPase NRas\"\n",
    "filtered_df = df[df[\"Target Name Assigned by Curator or DataSource\"].str.contains(keyword)]\n",
    "\n",
    "print(filtered_df.head(5))\n",
    "\n",
    "#guardam les molecules en un sdf file\n",
    "#output_file = '../Data/NRAS_bindingDB.sdf'\n",
    "#PandasTools.WriteSDF(filtered_df, output_file)"
   ]
  },
  {
   "cell_type": "code",
   "execution_count": 1,
   "metadata": {},
   "outputs": [
    {
     "ename": "NameError",
     "evalue": "name 'df' is not defined",
     "output_type": "error",
     "traceback": [
      "\u001b[0;31m---------------------------------------------------------------------------\u001b[0m",
      "\u001b[0;31mNameError\u001b[0m                                 Traceback (most recent call last)",
      "\u001b[0;32m/var/folders/bz/kph7_yt91tx_gtyrx7z046wr0000gn/T/ipykernel_94450/2160902767.py\u001b[0m in \u001b[0;36m<module>\u001b[0;34m\u001b[0m\n\u001b[1;32m      1\u001b[0m \u001b[0mkeyword\u001b[0m \u001b[0;34m=\u001b[0m \u001b[0;34m\"P01111\"\u001b[0m\u001b[0;34m\u001b[0m\u001b[0;34m\u001b[0m\u001b[0m\n\u001b[0;32m----> 2\u001b[0;31m \u001b[0mfiltered_df2\u001b[0m \u001b[0;34m=\u001b[0m \u001b[0mdf\u001b[0m\u001b[0;34m[\u001b[0m\u001b[0mdf\u001b[0m\u001b[0;34m[\u001b[0m\u001b[0;34m\"UniProt (SwissProt) Primary ID of Target Chain\"\u001b[0m\u001b[0;34m]\u001b[0m\u001b[0;34m.\u001b[0m\u001b[0mstr\u001b[0m\u001b[0;34m.\u001b[0m\u001b[0mcontains\u001b[0m\u001b[0;34m(\u001b[0m\u001b[0mkeyword\u001b[0m\u001b[0;34m)\u001b[0m\u001b[0;34m]\u001b[0m\u001b[0;34m\u001b[0m\u001b[0;34m\u001b[0m\u001b[0m\n\u001b[0m\u001b[1;32m      3\u001b[0m \u001b[0;34m\u001b[0m\u001b[0m\n\u001b[1;32m      4\u001b[0m \u001b[0mprint\u001b[0m\u001b[0;34m(\u001b[0m\u001b[0mfiltered_df2\u001b[0m\u001b[0;34m.\u001b[0m\u001b[0mhead\u001b[0m\u001b[0;34m(\u001b[0m\u001b[0;36m5\u001b[0m\u001b[0;34m)\u001b[0m\u001b[0;34m)\u001b[0m\u001b[0;34m\u001b[0m\u001b[0;34m\u001b[0m\u001b[0m\n",
      "\u001b[0;31mNameError\u001b[0m: name 'df' is not defined"
     ]
    }
   ],
   "source": [
    "keyword = \"P01111\"\n",
    "filtered_df2 = df[df[\"UniProt (SwissProt) Primary ID of Target Chain\"].str.contains(keyword)]\n",
    "\n",
    "print(filtered_df2.head(5))"
   ]
  },
  {
   "cell_type": "code",
   "execution_count": 2,
   "metadata": {},
   "outputs": [
    {
     "ename": "NameError",
     "evalue": "name 'df' is not defined",
     "output_type": "error",
     "traceback": [
      "\u001b[0;31m---------------------------------------------------------------------------\u001b[0m",
      "\u001b[0;31mNameError\u001b[0m                                 Traceback (most recent call last)",
      "\u001b[0;32m/var/folders/bz/kph7_yt91tx_gtyrx7z046wr0000gn/T/ipykernel_94450/1050209202.py\u001b[0m in \u001b[0;36m<module>\u001b[0;34m\u001b[0m\n\u001b[1;32m      1\u001b[0m \u001b[0mkeyword\u001b[0m \u001b[0;34m=\u001b[0m \u001b[0;34m\"GTPase NRas\"\u001b[0m\u001b[0;34m\u001b[0m\u001b[0;34m\u001b[0m\u001b[0m\n\u001b[0;32m----> 2\u001b[0;31m \u001b[0mfiltered_df2\u001b[0m \u001b[0;34m=\u001b[0m \u001b[0mdf\u001b[0m\u001b[0;34m[\u001b[0m\u001b[0mdf\u001b[0m\u001b[0;34m[\u001b[0m\u001b[0;34m\"UniProt (TrEMBL) Entry Name of Target Chain\"\u001b[0m\u001b[0;34m]\u001b[0m\u001b[0;34m.\u001b[0m\u001b[0mstr\u001b[0m\u001b[0;34m.\u001b[0m\u001b[0mcontains\u001b[0m\u001b[0;34m(\u001b[0m\u001b[0mkeyword\u001b[0m\u001b[0;34m)\u001b[0m\u001b[0;34m]\u001b[0m\u001b[0;34m\u001b[0m\u001b[0;34m\u001b[0m\u001b[0m\n\u001b[0m\u001b[1;32m      3\u001b[0m \u001b[0;34m\u001b[0m\u001b[0m\n\u001b[1;32m      4\u001b[0m \u001b[0mprint\u001b[0m\u001b[0;34m(\u001b[0m\u001b[0mfiltered_df2\u001b[0m\u001b[0;34m.\u001b[0m\u001b[0mhead\u001b[0m\u001b[0;34m(\u001b[0m\u001b[0;36m5\u001b[0m\u001b[0;34m)\u001b[0m\u001b[0;34m)\u001b[0m\u001b[0;34m\u001b[0m\u001b[0;34m\u001b[0m\u001b[0m\n",
      "\u001b[0;31mNameError\u001b[0m: name 'df' is not defined"
     ]
    }
   ],
   "source": [
    "keyword = \"GTPase NRas\"\n",
    "filtered_df2 = df[df[\"UniProt (TrEMBL) Entry Name of Target Chain\"].str.contains(keyword)]\n",
    "\n",
    "print(filtered_df2.head(5))"
   ]
  }
 ],
 "metadata": {
  "kernelspec": {
   "display_name": "base",
   "language": "python",
   "name": "python3"
  },
  "language_info": {
   "codemirror_mode": {
    "name": "ipython",
    "version": 3
   },
   "file_extension": ".py",
   "mimetype": "text/x-python",
   "name": "python",
   "nbconvert_exporter": "python",
   "pygments_lexer": "ipython3",
   "version": "3.9.13"
  },
  "orig_nbformat": 4
 },
 "nbformat": 4,
 "nbformat_minor": 2
}
