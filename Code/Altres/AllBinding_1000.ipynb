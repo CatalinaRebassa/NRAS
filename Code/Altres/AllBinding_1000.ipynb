{
 "cells": [
  {
   "attachments": {},
   "cell_type": "markdown",
   "metadata": {},
   "source": [
    "# AllBinging_1000.ipynb\n",
    "\n",
    "In this script we load the data from the document \"BindingDB_All.tsv\" witch is Ligand-Target-Affinity Dataset with 2,713,006 measurements, 1,165,900 compounds, 9,028 targets from https://www.bindingdb.org/rwd/bind/index.jsp database.\n",
    "\n",
    "The main objective is create a dataset with the fisrt 1000 molecules for the \"negative train\"."
   ]
  },
  {
   "cell_type": "code",
   "execution_count": null,
   "metadata": {},
   "outputs": [],
   "source": [
    "from rdkit import Chem\n",
    "from rdkit.Chem import PandasTools\n",
    "import pandas as pd\n",
    "\n",
    "#load file \n",
    "df = pd.read_csv('../../../../../Downloads/BindingDB_All.tsv', sep='\\t', error_bad_lines=False)"
   ]
  },
  {
   "cell_type": "code",
   "execution_count": null,
   "metadata": {},
   "outputs": [],
   "source": [
    "df3 = df.head(1000)\n",
    "\n",
    "col_data = ['BindingDB Reactant_set_id', 'Ligand SMILES', 'Ligand InChI',\n",
    "       'Ligand InChI Key', 'BindingDB MonomerID', 'BindingDB Ligand Name',\n",
    "       'Target Name',\n",
    "       'Target Source Organism According to Curator or DataSource',\n",
    "       'IC50 (nM)']\n",
    "\n",
    "df3 = df3[col_data]\n",
    "print(df3.head(5))\n",
    "\n",
    "df3.to_csv('../Data/BindingDB_1000.csv', index=False)"
   ]
  }
 ],
 "metadata": {
  "language_info": {
   "name": "python"
  },
  "orig_nbformat": 4
 },
 "nbformat": 4,
 "nbformat_minor": 2
}
