{
 "cells": [
  {
   "attachments": {},
   "cell_type": "markdown",
   "metadata": {},
   "source": [
    "https://gist.github.com/PatWalters/ea8dfc2523c8e94b74a36da020870a7b\n"
   ]
  },
  {
   "cell_type": "code",
   "execution_count": 1,
   "metadata": {},
   "outputs": [],
   "source": [
    "import pandas as pd\n",
    "import datamol as dm\n",
    "from rdkit import Chem"
   ]
  },
  {
   "cell_type": "code",
   "execution_count": 2,
   "metadata": {},
   "outputs": [
    {
     "name": "stdout",
     "output_type": "stream",
     "text": [
      "                                              SMILES     Formula     pIC50\n",
      "0    COc1cc2ncc(-c3cccc(NC4CCNC4)n3)n2cc1-c1cn[nH]c1   C20H21N7O  4.479255\n",
      "1      COc1cc2ncc(-c3cccc(NC4CCNC4)n3)n2cc1-c1cccnc1   C22H22N6O  5.003488\n",
      "2      COc1cc2ncc(-c3cccc(NC4CCNC4)n3)n2cc1-c1ccncc1   C22H22N6O  5.737549\n",
      "3  Cc1n[nH]c(C)c1-c1cn2c(cnc2cc1CO)-c1cccc(NC2CCN...   C22H25N7O  4.803547\n",
      "4  COc1cc2ncc(-c3cccc(NC4CCNC4)n3)n2cc1-c1cnn(CCN...  C26H32N8O2  4.803547\n",
      "578\n",
      "50\n"
     ]
    }
   ],
   "source": [
    "df = pd.read_csv(\"../../Data/pIC50_regression.csv\")\n",
    "\n",
    " \n",
    "#treure columnes que no volem \n",
    "\n",
    "columnas_a_eliminar = ['Molecular weight', 'LogP', 'H-bond donor','H-bond acceptor', 'TPSA', 'Rotatable bonds']\n",
    "\n",
    "#Eliminar las columnas especificadas\n",
    "df = df.drop(columnas_a_eliminar, axis=1)\n",
    "print(df.head())\n",
    "print(len(df))\n",
    "\n",
    "df2= df.head(50)\n",
    "print(len(df2))"
   ]
  },
  {
   "cell_type": "code",
   "execution_count": 3,
   "metadata": {},
   "outputs": [
    {
     "name": "stdout",
     "output_type": "stream",
     "text": [
      "                                              SMILES     Formula     pIC50  \\\n",
      "0    COc1cc2ncc(-c3cccc(NC4CCNC4)n3)n2cc1-c1cn[nH]c1   C20H21N7O  4.479255   \n",
      "1      COc1cc2ncc(-c3cccc(NC4CCNC4)n3)n2cc1-c1cccnc1   C22H22N6O  5.003488   \n",
      "2      COc1cc2ncc(-c3cccc(NC4CCNC4)n3)n2cc1-c1ccncc1   C22H22N6O  5.737549   \n",
      "3  Cc1n[nH]c(C)c1-c1cn2c(cnc2cc1CO)-c1cccc(NC2CCN...   C22H25N7O  4.803547   \n",
      "4  COc1cc2ncc(-c3cccc(NC4CCNC4)n3)n2cc1-c1cnn(CCN...  C26H32N8O2  4.803547   \n",
      "\n",
      "                                                mol  \\\n",
      "0  <rdkit.Chem.rdchem.Mol object at 0x7fb0350f9e40>   \n",
      "1  <rdkit.Chem.rdchem.Mol object at 0x7fb03510fdd0>   \n",
      "2  <rdkit.Chem.rdchem.Mol object at 0x7fb03510fe40>   \n",
      "3  <rdkit.Chem.rdchem.Mol object at 0x7fb03510feb0>   \n",
      "4  <rdkit.Chem.rdchem.Mol object at 0x7fb03510ff20>   \n",
      "\n",
      "                     inchi_key  \n",
      "0  ZMZGUJSLGMATGF-UHFFFAOYSA-N  \n",
      "1  ZQKNIPQNEVNCDY-UHFFFAOYSA-N  \n",
      "2  APWFGACQYAGVJI-UHFFFAOYSA-N  \n",
      "3  TVDMQPMYBJALJO-UHFFFAOYSA-N  \n",
      "4  BSPADJDNBJNBEV-UHFFFAOYSA-N  \n"
     ]
    },
    {
     "name": "stderr",
     "output_type": "stream",
     "text": [
      "/var/folders/bz/kph7_yt91tx_gtyrx7z046wr0000gn/T/ipykernel_27743/203212132.py:1: SettingWithCopyWarning: \n",
      "A value is trying to be set on a copy of a slice from a DataFrame.\n",
      "Try using .loc[row_indexer,col_indexer] = value instead\n",
      "\n",
      "See the caveats in the documentation: https://pandas.pydata.org/pandas-docs/stable/user_guide/indexing.html#returning-a-view-versus-a-copy\n",
      "  df2[\"mol\"] = df2.SMILES.apply(dm.to_mol)\n",
      "/var/folders/bz/kph7_yt91tx_gtyrx7z046wr0000gn/T/ipykernel_27743/203212132.py:2: SettingWithCopyWarning: \n",
      "A value is trying to be set on a copy of a slice from a DataFrame.\n",
      "Try using .loc[row_indexer,col_indexer] = value instead\n",
      "\n",
      "See the caveats in the documentation: https://pandas.pydata.org/pandas-docs/stable/user_guide/indexing.html#returning-a-view-versus-a-copy\n",
      "  df2[\"inchi_key\"] = df2.mol.apply(Chem.MolToInchiKey)\n"
     ]
    }
   ],
   "source": [
    "df2[\"mol\"] = df2.SMILES.apply(dm.to_mol)\n",
    "df2[\"inchi_key\"] = df2.mol.apply(Chem.MolToInchiKey)\n",
    "\n",
    "print(df2.head())"
   ]
  },
  {
   "cell_type": "code",
   "execution_count": 4,
   "metadata": {},
   "outputs": [],
   "source": [
    "activity_dict = {}\n",
    "for mol, pIC50 in df2[[\"mol\",\"pIC50\"]].values:\n",
    "    activity_dict[mol] = {\"pIC50\" : pIC50}"
   ]
  },
  {
   "cell_type": "code",
   "execution_count": 6,
   "metadata": {},
   "outputs": [],
   "source": [
    "with dm.without_rdkit_log():\n",
    "    scaffolds, scf2infos, scf2groups = dm.scaffold.fuzzy_scaffolding(df2.mol.tolist())"
   ]
  },
  {
   "cell_type": "code",
   "execution_count": null,
   "metadata": {},
   "outputs": [],
   "source": [
    "scf2infos['num_mols'] = [len(x) for x in scf2infos.mols]"
   ]
  }
 ],
 "metadata": {
  "kernelspec": {
   "display_name": "base",
   "language": "python",
   "name": "python3"
  },
  "language_info": {
   "codemirror_mode": {
    "name": "ipython",
    "version": 3
   },
   "file_extension": ".py",
   "mimetype": "text/x-python",
   "name": "python",
   "nbconvert_exporter": "python",
   "pygments_lexer": "ipython3",
   "version": "3.9.13"
  },
  "orig_nbformat": 4
 },
 "nbformat": 4,
 "nbformat_minor": 2
}
