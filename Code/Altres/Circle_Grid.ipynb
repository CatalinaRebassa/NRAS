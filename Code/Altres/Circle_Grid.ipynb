{
 "cells": [
  {
   "attachments": {},
   "cell_type": "markdown",
   "metadata": {},
   "source": [
    "https://gist.github.com/PatWalters/ea8dfc2523c8e94b74a36da020870a7b\n"
   ]
  },
  {
   "cell_type": "code",
   "execution_count": 1,
   "metadata": {},
   "outputs": [],
   "source": [
    "import pandas as pd\n",
    "import datamol as dm\n",
    "from rdkit import Chem"
   ]
  },
  {
   "cell_type": "code",
   "execution_count": 11,
   "metadata": {},
   "outputs": [
    {
     "name": "stdout",
     "output_type": "stream",
     "text": [
      "                                              SMILES     Formula     pIC50\n",
      "0    COc1cc2ncc(-c3cccc(NC4CCNC4)n3)n2cc1-c1cn[nH]c1   C20H21N7O  4.479255\n",
      "1      COc1cc2ncc(-c3cccc(NC4CCNC4)n3)n2cc1-c1cccnc1   C22H22N6O  5.003488\n",
      "2      COc1cc2ncc(-c3cccc(NC4CCNC4)n3)n2cc1-c1ccncc1   C22H22N6O  5.737549\n",
      "3  Cc1n[nH]c(C)c1-c1cn2c(cnc2cc1CO)-c1cccc(NC2CCN...   C22H25N7O  4.803547\n",
      "4  COc1cc2ncc(-c3cccc(NC4CCNC4)n3)n2cc1-c1cnn(CCN...  C26H32N8O2  4.803547\n"
     ]
    }
   ],
   "source": [
    "df = pd.read_csv(\"../Data/pIC50_regression.csv\")\n",
    "\n",
    " \n",
    "#treure columnes que no volem \n",
    "\n",
    "columnas_a_eliminar = ['Molecular weight', 'LogP', 'H-bond donor','H-bond acceptor', 'TPSA', 'Rotatable bonds']\n",
    "\n",
    "#Eliminar las columnas especificadas\n",
    "df = df.drop(columnas_a_eliminar, axis=1)\n",
    "print(df.head())"
   ]
  },
  {
   "cell_type": "code",
   "execution_count": 12,
   "metadata": {},
   "outputs": [],
   "source": [
    "df[\"mol\"] = df.SMILES.apply(dm.to_mol)\n",
    "df[\"inchi_key\"] = df.mol.apply(Chem.MolToInchiKey)"
   ]
  },
  {
   "cell_type": "code",
   "execution_count": 13,
   "metadata": {},
   "outputs": [],
   "source": [
    "activity_dict = {}\n",
    "for mol, pIC50 in df[[\"mol\",\"pIC50\"]].values:\n",
    "    activity_dict[mol] = {\"pIC50\" : pIC50}"
   ]
  },
  {
   "cell_type": "code",
   "execution_count": 14,
   "metadata": {},
   "outputs": [],
   "source": [
    "with dm.without_rdkit_log():\n",
    "    scaffolds, scf2infos, scf2groups = dm.scaffold.fuzzy_scaffolding(df.mol.tolist())"
   ]
  },
  {
   "cell_type": "code",
   "execution_count": null,
   "metadata": {},
   "outputs": [],
   "source": [
    "scf2infos['num_mols'] = [len(x) for x in scf2infos.mols]"
   ]
  }
 ],
 "metadata": {
  "kernelspec": {
   "display_name": "base",
   "language": "python",
   "name": "python3"
  },
  "language_info": {
   "codemirror_mode": {
    "name": "ipython",
    "version": 3
   },
   "file_extension": ".py",
   "mimetype": "text/x-python",
   "name": "python",
   "nbconvert_exporter": "python",
   "pygments_lexer": "ipython3",
   "version": "3.9.13"
  },
  "orig_nbformat": 4
 },
 "nbformat": 4,
 "nbformat_minor": 2
}
