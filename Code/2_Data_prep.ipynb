{
 "cells": [
  {
   "attachments": {},
   "cell_type": "markdown",
   "metadata": {},
   "source": [
    "# Data preparation\n",
    "\n",
    "For property prediction methods like MPNNs (Message Passing Neural Networks), it is crucial to have a dataset that includes the SMILES (simplified molecular-input line-entry system) representation of the molecules.\n",
    "\n",
    "We performed data preprocessing by filtering out duplicate SMILES and any special characters (>/<) in the IC50 column from the initial NRAS ligand dataset. Moreover, with RDKit we obtain some futures.\n",
    "In this script, two distinct datasets were created:\n",
    "\n",
    "1. Dataset_Positive: This dataset contains only the NRAS ligands that were obtained from the initial dataset.\n",
    "2. Dataset_Negative: This dataset includes only negative molecules that are not capable of inhibiting NRAS.\n"
   ]
  },
  {
   "cell_type": "markdown",
   "metadata": {},
   "source": [
    "## Dataset_Positive"
   ]
  },
  {
   "cell_type": "code",
   "execution_count": 10,
   "metadata": {},
   "outputs": [
    {
     "name": "stdout",
     "output_type": "stream",
     "text": [
      "Index(['BindingDB Reactant_set_id', 'Ligand SMILES', 'Ligand InChI',\n",
      "       'Ligand InChI Key', 'BindingDB MonomerID', 'BindingDB Ligand Name',\n",
      "       'Target Name',\n",
      "       'Target Source Organism According to Curator or DataSource',\n",
      "       'IC50 (nM)'],\n",
      "      dtype='object')\n"
     ]
    }
   ],
   "source": [
    "import pandas as pd\n",
    "from rdkit import Chem\n",
    "from rdkit.Chem import Descriptors, Crippen\n",
    "\n",
    "df = pd.read_csv('../Data/NRAS_ligands.csv')\n",
    "print(df.columns)"
   ]
  },
  {
   "cell_type": "markdown",
   "metadata": {},
   "source": [
    "### Features with RDKit\n",
    "For each ligand, a variety of molecular features were chosen and calculated using the open-source RDKit package. The selected features include:\n",
    "1. Molecular Weight: This is the sum of the atomic weights of all the atoms in a molecule.\n",
    "2. LogP (Partition Coefficient): LogP is a measure of a compound's lipophilicity or hydrophobicity, indicating how effectively a molecule can partition between a hydrophobic phase and an aqueous phase.\n",
    "3. Total Polar Surface Area (TPSA): TPSA measures the surface area of a molecule that is polar or capable of forming hydrogen bonds. It provides insights into a compound's capacity to interact with other molecules, such as binding to biological targets.\n",
    "4. Rotatable Bonds: Rotatable bonds represent the number of single bonds in a molecule that can freely rotate without breaking any chemical bonds. This feature is pertinent because it influences the molecule's conformation and flexibility."
   ]
  },
  {
   "cell_type": "code",
   "execution_count": 11,
   "metadata": {},
   "outputs": [
    {
     "name": "stderr",
     "output_type": "stream",
     "text": [
      "[18:52:32] Explicit valence for atom # 27 N, 4, is greater than permitted\n",
      "[18:52:33] Explicit valence for atom # 27 N, 4, is greater than permitted\n",
      "[18:52:34] Explicit valence for atom # 27 N, 4, is greater than permitted\n",
      "[18:52:35] Explicit valence for atom # 27 N, 4, is greater than permitted\n"
     ]
    },
    {
     "name": "stdout",
     "output_type": "stream",
     "text": [
      "1831\n",
      "                                              SMILES     Formula  \\\n",
      "0    COc1cc2ncc(-c3cccc(NC4CCNC4)n3)n2cc1-c1cn[nH]c1   C20H21N7O   \n",
      "1      COc1cc2ncc(-c3cccc(NC4CCNC4)n3)n2cc1-c1cccnc1   C22H22N6O   \n",
      "2      COc1cc2ncc(-c3cccc(NC4CCNC4)n3)n2cc1-c1ccncc1   C22H22N6O   \n",
      "3  Cc1n[nH]c(C)c1-c1cn2c(cnc2cc1CO)-c1cccc(NC2CCN...   C22H25N7O   \n",
      "4  COc1cc2ncc(-c3cccc(NC4CCNC4)n3)n2cc1-c1cnn(CCN...  C26H32N8O2   \n",
      "\n",
      "   Molecular weight     LogP  H-bond donor  H-bond acceptor    TPSA  \\\n",
      "0        375.180758  2.56880             3                7   92.16   \n",
      "1        386.185509  3.24070             2                7   76.37   \n",
      "2        386.185509  3.24070             2                7   76.37   \n",
      "3        403.212058  2.66934             4                7  103.16   \n",
      "4        488.264822  2.37440             2               10   93.77   \n",
      "\n",
      "   Rotatable bonds    IC50  \n",
      "0                5   33170  \n",
      "1                5    9920  \n",
      "2                5    1830  \n",
      "3                5   15720  \n",
      "4                8   15720  \n"
     ]
    }
   ],
   "source": [
    "features = []\n",
    "\n",
    "for i, row in df.iterrows():\n",
    "    estructura = row['Ligand SMILES']\n",
    "    \n",
    "    mol = Chem.MolFromSmiles(estructura)\n",
    "    \n",
    "    if mol is not None:\n",
    "\n",
    "        smiles = row['Ligand SMILES']\n",
    "        formula = Chem.rdMolDescriptors.CalcMolFormula(mol)\n",
    "        mw = Descriptors.ExactMolWt(mol)\n",
    "        logp = Crippen.MolLogP(mol)\n",
    "        num_hbd = Descriptors.NumHDonors(mol)\n",
    "        num_hba = Descriptors.NumHAcceptors(mol)\n",
    "        tpsa = Descriptors.TPSA(mol)\n",
    "        num_rb = Descriptors.NumRotatableBonds(mol)\n",
    "        ic50 = row['IC50 (nM)']\n",
    "        \n",
    "        \n",
    "        features.append([smiles, formula, mw, logp, num_hbd, num_hba, tpsa, num_rb, ic50])\n",
    "\n",
    "\n",
    "df_features = pd.DataFrame(features, columns=['SMILES','Formula', 'Molecular weight', 'LogP', \"H-bond donor\",\"H-bond acceptor\",\"TPSA\",\"Rotatable bonds\", \"IC50\"])\n",
    "print(len(df_features))\n",
    "print(df_features.head(5))"
   ]
  },
  {
   "attachments": {},
   "cell_type": "markdown",
   "metadata": {},
   "source": [
    "### Drop special characters (>/<) in the IC50\n",
    "\n",
    "In the column with the IC50 information we observe that some entries have symbols; >/< which causes the variable not to be considered numerical. For this reason we eliminate those that contain this type of symbols from our data frame."
   ]
  },
  {
   "cell_type": "code",
   "execution_count": 12,
   "metadata": {},
   "outputs": [
    {
     "name": "stdout",
     "output_type": "stream",
     "text": [
      "       Molecular weight         LogP  H-bond donor  H-bond acceptor  \\\n",
      "count       1443.000000  1443.000000   1443.000000      1443.000000   \n",
      "mean         929.880380     5.904186      2.243243        11.722800   \n",
      "std          111.243312     0.926376      0.499390         1.349762   \n",
      "min          299.093773     0.510500      2.000000         5.000000   \n",
      "25%          913.485045     5.544500      2.000000        11.000000   \n",
      "50%          937.488416     5.996000      2.000000        12.000000   \n",
      "75%          977.519717     6.401700      2.000000        13.000000   \n",
      "max         1154.630408     8.069200      6.000000        15.000000   \n",
      "\n",
      "              TPSA  Rotatable bonds          IC50  \n",
      "count  1443.000000      1443.000000   1443.000000  \n",
      "mean    168.349473         9.802495   2138.860707  \n",
      "std      19.032505         1.439658   3281.785689  \n",
      "min      54.250000         3.000000      2.000000  \n",
      "25%     161.890000         9.000000     55.000000  \n",
      "50%     171.540000        10.000000    550.000000  \n",
      "75%     177.740000        11.000000   5500.000000  \n",
      "max     206.800000        14.000000  33170.000000  \n"
     ]
    }
   ],
   "source": [
    "df_features = df_features[df_features['IC50'].str.contains(\">|<\")== False]\n",
    "\n",
    "#change column IC50 to numerical \n",
    "column = 'IC50'\n",
    "df_features[column] = pd.to_numeric(df_features[column], errors='coerce')\n",
    "\n",
    "summary = df_features.describe()\n",
    "print(summary)"
   ]
  },
  {
   "cell_type": "markdown",
   "metadata": {},
   "source": [
    "### Drop SMILES duplicates"
   ]
  },
  {
   "cell_type": "code",
   "execution_count": 13,
   "metadata": {},
   "outputs": [
    {
     "name": "stdout",
     "output_type": "stream",
     "text": [
      "578\n"
     ]
    }
   ],
   "source": [
    "df = df_features.drop_duplicates(subset=['SMILES'])\n",
    "print(len(df))"
   ]
  },
  {
   "cell_type": "code",
   "execution_count": 14,
   "metadata": {},
   "outputs": [],
   "source": [
    "df.to_csv('../Data/Dataset_Positive.csv', index=False)"
   ]
  },
  {
   "cell_type": "markdown",
   "metadata": {},
   "source": [
    "## Dataset_Negative"
   ]
  },
  {
   "cell_type": "code",
   "execution_count": 15,
   "metadata": {},
   "outputs": [
    {
     "name": "stdout",
     "output_type": "stream",
     "text": [
      "Index(['BindingDB Reactant_set_id', 'Ligand SMILES', 'Ligand InChI',\n",
      "       'Ligand InChI Key', 'BindingDB MonomerID', 'BindingDB Ligand Name',\n",
      "       'Target Name',\n",
      "       'Target Source Organism According to Curator or DataSource',\n",
      "       'IC50 (nM)'],\n",
      "      dtype='object')\n"
     ]
    }
   ],
   "source": [
    "# load file \n",
    "df2 = pd.read_csv('../Data/BindingDB_1000.csv')\n",
    "print(df2.columns)"
   ]
  },
  {
   "cell_type": "markdown",
   "metadata": {},
   "source": [
    "### Features with RDKit\n",
    "\n",
    "We calculate with RDKit the same characteristics we have selected with the Dataset_positive"
   ]
  },
  {
   "cell_type": "code",
   "execution_count": 16,
   "metadata": {},
   "outputs": [
    {
     "name": "stderr",
     "output_type": "stream",
     "text": [
      "[18:52:53] Can't kekulize mol.  Unkekulized atoms: 24 25 26 27 28\n"
     ]
    },
    {
     "name": "stdout",
     "output_type": "stream",
     "text": [
      "999\n",
      "                                              SMILES        Formula  \\\n",
      "0   O=C(CCc1cccnc1)N(Cc1cccs1)Cc1nc2CCOCc2c(=O)[nH]1    C21H22N4O3S   \n",
      "1  COc1cccc(OC)c1-c1noc(C2CC2)c1COc1ccc(c(Cl)c1)C...  C30H27ClFN3O7   \n",
      "2    CNC(=O)c1ccccc1Sc1ccc2c(\\C=C\\c3ccccn3)n[nH]c2c1     C22H18N4OS   \n",
      "3  CC(C)NCCN([C@@H]1CC[C@@]2(CC2C1)c1cccc(c1)C#N)...   C25H29Cl2N5O   \n",
      "4  Clc1cccc2c(ccnc12)-n1cnc2c(cc(cc12)N1CCOCC1)-c...    C22H18ClN7O   \n",
      "\n",
      "   Molecular weight     LogP  H-bond donor  H-bond acceptor    TPSA  \\\n",
      "0        410.141262  2.46070             1                6   88.18   \n",
      "1        595.152156  5.40870             2                9  127.38   \n",
      "2        386.120132  4.63910             2                4   70.67   \n",
      "3        485.174916  5.60238             2                4   81.05   \n",
      "4        431.126136  3.84880             1                7   84.75   \n",
      "\n",
      "   Rotatable bonds  \n",
      "0                7  \n",
      "1               10  \n",
      "2                5  \n",
      "3                7  \n",
      "4                3  \n"
     ]
    }
   ],
   "source": [
    "features = []\n",
    "\n",
    "for i, row in df2.iterrows():\n",
    "    estructura = row['Ligand SMILES']\n",
    "    \n",
    "    mol = Chem.MolFromSmiles(estructura)\n",
    "    \n",
    "    if mol is not None:\n",
    "        \n",
    "        smiles = row['Ligand SMILES']\n",
    "        formula = Chem.rdMolDescriptors.CalcMolFormula(mol)\n",
    "        mw = Descriptors.ExactMolWt(mol)\n",
    "        logp = Crippen.MolLogP(mol)\n",
    "        num_hbd = Descriptors.NumHDonors(mol)\n",
    "        num_hba = Descriptors.NumHAcceptors(mol)\n",
    "        tpsa = Descriptors.TPSA(mol)\n",
    "        num_rb = Descriptors.NumRotatableBonds(mol)\n",
    "        \n",
    "        \n",
    "        features.append([smiles, formula, mw, logp, num_hbd, num_hba, tpsa, num_rb])\n",
    "\n",
    "\n",
    "df_features = pd.DataFrame(features, columns=['SMILES','Formula', 'Molecular weight', 'LogP', \"H-bond donor\",\"H-bond acceptor\",\"TPSA\",\"Rotatable bonds\"])\n",
    "\n",
    "print(len(df_features))\n",
    "print(df_features.head(5))"
   ]
  },
  {
   "cell_type": "markdown",
   "metadata": {},
   "source": [
    "### Drop SMILES duplicates"
   ]
  },
  {
   "cell_type": "code",
   "execution_count": 17,
   "metadata": {},
   "outputs": [
    {
     "name": "stdout",
     "output_type": "stream",
     "text": [
      "992\n",
      "                                              SMILES        Formula  \\\n",
      "0   O=C(CCc1cccnc1)N(Cc1cccs1)Cc1nc2CCOCc2c(=O)[nH]1    C21H22N4O3S   \n",
      "1  COc1cccc(OC)c1-c1noc(C2CC2)c1COc1ccc(c(Cl)c1)C...  C30H27ClFN3O7   \n",
      "2    CNC(=O)c1ccccc1Sc1ccc2c(\\C=C\\c3ccccn3)n[nH]c2c1     C22H18N4OS   \n",
      "3  CC(C)NCCN([C@@H]1CC[C@@]2(CC2C1)c1cccc(c1)C#N)...   C25H29Cl2N5O   \n",
      "4  Clc1cccc2c(ccnc12)-n1cnc2c(cc(cc12)N1CCOCC1)-c...    C22H18ClN7O   \n",
      "\n",
      "   Molecular weight     LogP  H-bond donor  H-bond acceptor    TPSA  \\\n",
      "0        410.141262  2.46070             1                6   88.18   \n",
      "1        595.152156  5.40870             2                9  127.38   \n",
      "2        386.120132  4.63910             2                4   70.67   \n",
      "3        485.174916  5.60238             2                4   81.05   \n",
      "4        431.126136  3.84880             1                7   84.75   \n",
      "\n",
      "   Rotatable bonds  \n",
      "0                7  \n",
      "1               10  \n",
      "2                5  \n",
      "3                7  \n",
      "4                3  \n"
     ]
    }
   ],
   "source": [
    "df2 = df_features.drop_duplicates(subset=['SMILES'])\n",
    "print(len(df2))\n",
    "print(df2.head(5))"
   ]
  },
  {
   "cell_type": "code",
   "execution_count": null,
   "metadata": {},
   "outputs": [],
   "source": [
    "df2.to_csv('../Data/Dataset_Negative.csv', index=False)"
   ]
  }
 ],
 "metadata": {
  "kernelspec": {
   "display_name": "base",
   "language": "python",
   "name": "python3"
  },
  "language_info": {
   "codemirror_mode": {
    "name": "ipython",
    "version": 3
   },
   "file_extension": ".py",
   "mimetype": "text/x-python",
   "name": "python",
   "nbconvert_exporter": "python",
   "pygments_lexer": "ipython3",
   "version": "3.9.13"
  },
  "orig_nbformat": 4
 },
 "nbformat": 4,
 "nbformat_minor": 2
}
