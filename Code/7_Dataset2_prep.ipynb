{
 "cells": [
  {
   "cell_type": "markdown",
   "metadata": {},
   "source": [
    "# Dataset_2 preparation \n",
    "\n",
    "**Dataset_2**: This dataset includes NRAS ligands as well as negative molecules that are not capable of inhibiting NRAS.\n",
    "\n",
    "In this script we will prepare Dataset_2 , which we will use for training Chemprop with the approach classification. We will add in the Dataset_1_class , the negative molecules obtained (Dataset_negative) with a pIC50 classification of 0.\n",
    "\n"
   ]
  },
  {
   "cell_type": "code",
   "execution_count": 2,
   "metadata": {},
   "outputs": [
    {
     "name": "stdout",
     "output_type": "stream",
     "text": [
      "Index(['SMILES', 'Formula', 'Molecular weight', 'LogP', 'H-bond donor',\n",
      "       'H-bond acceptor', 'TPSA', 'Rotatable bonds'],\n",
      "      dtype='object')\n",
      "992\n"
     ]
    }
   ],
   "source": [
    "import pandas as pd\n",
    "\n",
    "df = pd.read_csv('../Data/Dataset_Negative.csv')\n",
    "print(df.columns)\n",
    "print(len(df))"
   ]
  },
  {
   "cell_type": "code",
   "execution_count": 3,
   "metadata": {},
   "outputs": [
    {
     "name": "stdout",
     "output_type": "stream",
     "text": [
      "                                              SMILES        Formula  \\\n",
      "0   O=C(CCc1cccnc1)N(Cc1cccs1)Cc1nc2CCOCc2c(=O)[nH]1    C21H22N4O3S   \n",
      "1  COc1cccc(OC)c1-c1noc(C2CC2)c1COc1ccc(c(Cl)c1)C...  C30H27ClFN3O7   \n",
      "2    CNC(=O)c1ccccc1Sc1ccc2c(\\C=C\\c3ccccn3)n[nH]c2c1     C22H18N4OS   \n",
      "3  CC(C)NCCN([C@@H]1CC[C@@]2(CC2C1)c1cccc(c1)C#N)...   C25H29Cl2N5O   \n",
      "4  Clc1cccc2c(ccnc12)-n1cnc2c(cc(cc12)N1CCOCC1)-c...    C22H18ClN7O   \n",
      "\n",
      "   Molecular weight     LogP  H-bond donor  H-bond acceptor    TPSA  \\\n",
      "0        410.141262  2.46070             1                6   88.18   \n",
      "1        595.152156  5.40870             2                9  127.38   \n",
      "2        386.120132  4.63910             2                4   70.67   \n",
      "3        485.174916  5.60238             2                4   81.05   \n",
      "4        431.126136  3.84880             1                7   84.75   \n",
      "\n",
      "   Rotatable bonds  pIC50  \n",
      "0                7      0  \n",
      "1               10      0  \n",
      "2                5      0  \n",
      "3                7      0  \n",
      "4                3      0  \n"
     ]
    }
   ],
   "source": [
    "df_class = df\n",
    "\n",
    "df_class.loc[:, 'pIC50'] = 0\n",
    "print(df_class.head(5))"
   ]
  },
  {
   "cell_type": "code",
   "execution_count": 5,
   "metadata": {},
   "outputs": [
    {
     "name": "stdout",
     "output_type": "stream",
     "text": [
      "1570\n"
     ]
    },
    {
     "data": {
      "image/png": "[encoded data removed]",
      "text/plain": [
       "<Figure size 640x480 with 1 Axes>"
      ]
     },
     "metadata": {},
     "output_type": "display_data"
    }
   ],
   "source": [
    "#ens baixem les dades dels que sabem que sin inhibidors\n",
    "df1 = pd.read_csv('../Data/Dataset_1_class.csv')\n",
    "\n",
    "#unim els dos data frames \n",
    "df_class2 = pd.concat([df1, df_class])\n",
    "print(len(df_class2))\n",
    "\n",
    "#guardam\n",
    "df_class2.to_csv('../Data/Dataset_2.csv', index=False)\n",
    "\n",
    "import matplotlib.pyplot as plt\n",
    "\n",
    "fig, ax = plt.subplots()\n",
    "ax.hist(df_class2['pIC50'], color = \"lightsteelblue\")\n",
    "\n",
    "plt.show()"
   ]
  }
 ],
 "metadata": {
  "kernelspec": {
   "display_name": "base",
   "language": "python",
   "name": "python3"
  },
  "language_info": {
   "codemirror_mode": {
    "name": "ipython",
    "version": 3
   },
   "file_extension": ".py",
   "mimetype": "text/x-python",
   "name": "python",
   "nbconvert_exporter": "python",
   "pygments_lexer": "ipython3",
   "version": "3.9.13"
  },
  "orig_nbformat": 4
 },
 "nbformat": 4,
 "nbformat_minor": 2
}
