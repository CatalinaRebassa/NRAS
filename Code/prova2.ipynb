{
 "cells": [
  {
   "cell_type": "code",
   "execution_count": 13,
   "metadata": {},
   "outputs": [
    {
     "name": "stdout",
     "output_type": "stream",
     "text": [
      "Dades guardades correctament al fitxer inhibidors_NRAS.sdf\n"
     ]
    }
   ],
   "source": [
    "import requests\n",
    "from rdkit import Chem\n",
    "from rdkit.Chem import PandasTools\n",
    "\n",
    "# URL de l'API del BindingDB per obtenir dades de vinculació\n",
    "url = 'https://www.bindingdb.org/bind/chemsearch/marvin/SDFdownload.jsp'\n",
    "\n",
    "# Paràmetres per a la cerca d'inhibidors de NRAS\n",
    "params = {\n",
    "    'searcher': 't',\n",
    "    'target_query': 'NRAS',\n",
    "    'column': 'IC50',\n",
    "    'lytic': 0,\n",
    "    'quantitative': 1,\n",
    "    'num_res': 100,  # nombre de resultats a retornar\n",
    "    'download': 'download',\n",
    "}\n",
    "\n",
    "# Fes la sol·licitud HTTP per obtenir les dades\n",
    "response = requests.get(url, params=params)\n",
    "\n",
    "# Verifica si la sol·licitud ha estat exitosa\n",
    "if response.status_code == 200:\n",
    "\n",
    "    # Crea un fitxer SDF amb les línies disponibles\n",
    "    with open('inhibidors_NRAS.sdf', 'w') as f:\n",
    "        f.write('\\n'.join(lines))\n",
    "    \n",
    "    print('Dades guardades correctament al fitxer inhibidors_NRAS.sdf')\n",
    "else:\n",
    "    print('Error en la sol·licitud HTTP')\n"
   ]
  }
 ],
 "metadata": {
  "kernelspec": {
   "display_name": "base",
   "language": "python",
   "name": "python3"
  },
  "language_info": {
   "codemirror_mode": {
    "name": "ipython",
    "version": 3
   },
   "file_extension": ".py",
   "mimetype": "text/x-python",
   "name": "python",
   "nbconvert_exporter": "python",
   "pygments_lexer": "ipython3",
   "version": "3.9.13"
  },
  "orig_nbformat": 4,
  "vscode": {
   "interpreter": {
    "hash": "05d52a8061bf28719f58cd60efb074da2b97adc8ef2ad1f3e3a6a80ded299def"
   }
  }
 },
 "nbformat": 4,
 "nbformat_minor": 2
}
