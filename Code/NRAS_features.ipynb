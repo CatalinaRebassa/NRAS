{
 "cells": [
  {
   "cell_type": "code",
   "execution_count": 3,
   "metadata": {},
   "outputs": [
    {
     "name": "stdout",
     "output_type": "stream",
     "text": [
      "Index(['BindingDB Reactant_set_id', 'Ligand SMILES', 'Ligand InChI',\n",
      "       'Ligand InChI Key', 'BindingDB MonomerID', 'BindingDB Ligand Name',\n",
      "       'Target Name',\n",
      "       'Target Source Organism According to Curator or DataSource',\n",
      "       'IC50 (nM)'],\n",
      "      dtype='object')\n"
     ]
    }
   ],
   "source": [
    "import pandas as pd\n",
    "from rdkit import Chem\n",
    "from rdkit.Chem import Descriptors, Crippen\n",
    "\n",
    "df = pd.read_csv('../Data/NRAS_ligands.csv')\n",
    "print(df.columns)\n"
   ]
  },
  {
   "cell_type": "code",
   "execution_count": 9,
   "metadata": {},
   "outputs": [
    {
     "name": "stderr",
     "output_type": "stream",
     "text": [
      "[19:21:24] Explicit valence for atom # 27 N, 4, is greater than permitted\n",
      "[19:21:24] Explicit valence for atom # 27 N, 4, is greater than permitted\n",
      "[19:21:25] Explicit valence for atom # 27 N, 4, is greater than permitted\n",
      "[19:21:26] Explicit valence for atom # 27 N, 4, is greater than permitted\n"
     ]
    }
   ],
   "source": [
    "features = []\n",
    "\n",
    "for i, row in df.iterrows():\n",
    "    estructura = row['Ligand SMILES']\n",
    "    \n",
    "    mol = Chem.MolFromSmiles(estructura)\n",
    "    \n",
    "    if mol is not None:\n",
    "        # Amb les funcions RDKit extreim les dades \n",
    "        smiles = row['Ligand SMILES']\n",
    "        formula = Chem.rdMolDescriptors.CalcMolFormula(mol)\n",
    "        mw = Descriptors.ExactMolWt(mol)\n",
    "        logp = Crippen.MolLogP(mol)\n",
    "        num_hbd = Descriptors.NumHDonors(mol)\n",
    "        num_hba = Descriptors.NumHAcceptors(mol)\n",
    "        tpsa = Descriptors.TPSA(mol)\n",
    "        num_rb = Descriptors.NumRotatableBonds(mol)\n",
    "        ic50 = row['IC50 (nM)']\n",
    "        \n",
    "        # Agregam les dades a una llista\n",
    "        features.append([smiles, formula, mw, logp, num_hbd, num_hba, tpsa, num_rb, ic50])\n",
    "\n",
    "# cream un data frame amb les dades extretes\n",
    "df_features = pd.DataFrame(features, columns=['SMILES','Formula', 'Peso Molecular', 'LogP', \"H-bond donor\",\"H-bond acceptor\",\"TPSA\",\"Rotatable bonds\", \"IC50\"])\n",
    "\n",
    "# Guardam el data fram en un nou csv\n",
    "df_features.to_csv('../Data/NRAS_ligands_features.csv', index=False)"
   ]
  },
  {
   "cell_type": "code",
   "execution_count": 10,
   "metadata": {},
   "outputs": [
    {
     "name": "stdout",
     "output_type": "stream",
     "text": [
      "1831\n",
      "                                              SMILES     Formula  \\\n",
      "0    COc1cc2ncc(-c3cccc(NC4CCNC4)n3)n2cc1-c1cn[nH]c1   C20H21N7O   \n",
      "1      COc1cc2ncc(-c3cccc(NC4CCNC4)n3)n2cc1-c1cccnc1   C22H22N6O   \n",
      "2      COc1cc2ncc(-c3cccc(NC4CCNC4)n3)n2cc1-c1ccncc1   C22H22N6O   \n",
      "3  Cc1n[nH]c(C)c1-c1cn2c(cnc2cc1CO)-c1cccc(NC2CCN...   C22H25N7O   \n",
      "4  COc1cc2ncc(-c3cccc(NC4CCNC4)n3)n2cc1-c1cnn(CCN...  C26H32N8O2   \n",
      "\n",
      "   Peso Molecular     LogP  H-bond donor  H-bond acceptor    TPSA  \\\n",
      "0      375.180758  2.56880             3                7   92.16   \n",
      "1      386.185509  3.24070             2                7   76.37   \n",
      "2      386.185509  3.24070             2                7   76.37   \n",
      "3      403.212058  2.66934             4                7  103.16   \n",
      "4      488.264822  2.37440             2               10   93.77   \n",
      "\n",
      "   Rotatable bonds    IC50  \n",
      "0                5   33170  \n",
      "1                5    9920  \n",
      "2                5    1830  \n",
      "3                5   15720  \n",
      "4                8   15720  \n"
     ]
    }
   ],
   "source": [
    "print(len(df_features))\n",
    "print(df_features.head(5))"
   ]
  },
  {
   "cell_type": "code",
   "execution_count": 15,
   "metadata": {},
   "outputs": [
    {
     "name": "stdout",
     "output_type": "stream",
     "text": [
      "653\n",
      "50\n"
     ]
    }
   ],
   "source": [
    "#veure si tenc smiles que son iguals \n",
    "df_sin_duplicados_col1 = df_features.drop_duplicates(subset=['SMILES'])\n",
    "print(len(df_sin_duplicados_col1))\n",
    "\n",
    "#guardo les dades \n",
    "df_sin_duplicados_col1.to_csv('../Data/SMILES_NRAS_ligands_features.csv', index=False)\n",
    "\n",
    "#guardo un amb les 50 primeres per fer proves clustering\n",
    "df_50 = df_sin_duplicados_col1.head(50)\n",
    "print(len(df_50))\n",
    "df_50.to_csv('../Data/50_NRASligands.csv', index=False)\n"
   ]
  },
  {
   "cell_type": "code",
   "execution_count": 24,
   "metadata": {},
   "outputs": [
    {
     "name": "stdout",
     "output_type": "stream",
     "text": [
      "1831\n"
     ]
    }
   ],
   "source": [
    "#cuantes molecules tenim?\n",
    "\n",
    "total_mol = len(df_features['Formula'])\n",
    "print(total_mol)"
   ]
  },
  {
   "cell_type": "code",
   "execution_count": 25,
   "metadata": {},
   "outputs": [
    {
     "name": "stdout",
     "output_type": "stream",
     "text": [
      "       Peso Molecular         LogP  H-bond donor  H-bond acceptor  \\\n",
      "count     1831.000000  1831.000000   1831.000000      1831.000000   \n",
      "mean       932.066646     5.862662      2.255052        11.759694   \n",
      "std        101.814032     0.914444      0.504564         1.291051   \n",
      "min        299.093773     0.510500      2.000000         5.000000   \n",
      "25%        909.457116     5.450400      2.000000        11.000000   \n",
      "50%        937.488416     5.920500      2.000000        12.000000   \n",
      "75%        977.519717     6.389300      2.000000        13.000000   \n",
      "max       1154.630408     8.069200      6.000000        16.000000   \n",
      "\n",
      "              TPSA  Rotatable bonds  \n",
      "count  1831.000000      1831.000000  \n",
      "mean    168.357351         9.841617  \n",
      "std      18.029557         1.385339  \n",
      "min      54.250000         3.000000  \n",
      "25%     160.460000         9.000000  \n",
      "50%     171.540000        10.000000  \n",
      "75%     177.950000        11.000000  \n",
      "max     254.790000        14.000000  \n"
     ]
    }
   ],
   "source": [
    "#summary de les variables que he obtingut amb RDKit\n",
    " \n",
    "summary = df_features.describe()\n",
    "print(summary)\n",
    "#NO FA RESUM DE IC50\n",
    "\n"
   ]
  },
  {
   "cell_type": "code",
   "execution_count": 26,
   "metadata": {},
   "outputs": [
    {
     "name": "stdout",
     "output_type": "stream",
     "text": [
      "La columna 'IC50' no se considera numérica.\n"
     ]
    }
   ],
   "source": [
    "nombre_columna = 'IC50'\n",
    "\n",
    "# Verificar si la columna se considera numérica\n",
    "try:\n",
    "    pd.to_numeric(df_features[nombre_columna])\n",
    "    es_numerica = True\n",
    "except ValueError:\n",
    "    es_numerica = False\n",
    "\n",
    "# Imprimir el resultado\n",
    "if es_numerica:\n",
    "    print(f\"La columna '{nombre_columna}' se considera numérica.\")\n",
    "else:\n",
    "    print(f\"La columna '{nombre_columna}' no se considera numérica.\")"
   ]
  },
  {
   "cell_type": "code",
   "execution_count": 28,
   "metadata": {},
   "outputs": [
    {
     "name": "stdout",
     "output_type": "stream",
     "text": [
      "La columna 'IC50' se ha convertido a tipo numérico.\n"
     ]
    }
   ],
   "source": [
    "# Convertir la columna a tipo numérico\n",
    "df_features[nombre_columna] = pd.to_numeric(df_features[nombre_columna], errors='coerce')\n",
    "\n",
    "# Verificar si la conversión fue exitosa\n",
    "if pd.api.types.is_numeric_dtype(df_features[nombre_columna]):\n",
    "    print(f\"La columna '{nombre_columna}' se ha convertido a tipo numérico.\")\n",
    "else:\n",
    "    print(f\"No se pudo convertir la columna '{nombre_columna}' a tipo numérico.\")\n",
    "\n",
    "# Guardar el DataFrame actualizado en un nuevo archivo CSV\n",
    "df_features.to_csv('../Data/NRAS_ligands_features.csv', index=False)\n"
   ]
  },
  {
   "cell_type": "code",
   "execution_count": 29,
   "metadata": {},
   "outputs": [
    {
     "name": "stdout",
     "output_type": "stream",
     "text": [
      "       Peso Molecular         LogP  H-bond donor  H-bond acceptor  \\\n",
      "count     1831.000000  1831.000000   1831.000000      1831.000000   \n",
      "mean       932.066646     5.862662      2.255052        11.759694   \n",
      "std        101.814032     0.914444      0.504564         1.291051   \n",
      "min        299.093773     0.510500      2.000000         5.000000   \n",
      "25%        909.457116     5.450400      2.000000        11.000000   \n",
      "50%        937.488416     5.920500      2.000000        12.000000   \n",
      "75%        977.519717     6.389300      2.000000        13.000000   \n",
      "max       1154.630408     8.069200      6.000000        16.000000   \n",
      "\n",
      "              TPSA  Rotatable bonds          IC50  \n",
      "count  1831.000000      1831.000000   1443.000000  \n",
      "mean    168.357351         9.841617   2138.860707  \n",
      "std      18.029557         1.385339   3281.785689  \n",
      "min      54.250000         3.000000      2.000000  \n",
      "25%     160.460000         9.000000     55.000000  \n",
      "50%     171.540000        10.000000    550.000000  \n",
      "75%     177.950000        11.000000   5500.000000  \n",
      "max     254.790000        14.000000  33170.000000  \n"
     ]
    }
   ],
   "source": [
    "#torno a fer el summary per comprovar que surt el IC50\n",
    " \n",
    "summary = df_features.describe()\n",
    "print(summary)"
   ]
  },
  {
   "cell_type": "code",
   "execution_count": 79,
   "metadata": {},
   "outputs": [
    {
     "name": "stdout",
     "output_type": "stream",
     "text": [
      "It's assumed that the data don't follows a normal distribution\n"
     ]
    }
   ],
   "source": [
    "#Hauriem de comprovar si les dades segueixen una distribució normal \n",
    "#prova test de normalitat \n",
    "\n",
    "import pandas as pd\n",
    "from scipy import stats\n",
    "\n",
    "MW = df_2['MW']\n",
    "\n",
    "# Shapiro-Wilk\n",
    "statistic, p_value = stats.shapiro(MW)\n",
    "# Significance level\n",
    "sig = 0.05\n",
    "if p_value > sig:\n",
    "    print(\"It's assumed that the data follows a normal distribution\")\n",
    "else:\n",
    "    print(\"It's assumed that the data don't follows a normal distribution\")"
   ]
  }
 ],
 "metadata": {
  "kernelspec": {
   "display_name": "base",
   "language": "python",
   "name": "python3"
  },
  "language_info": {
   "codemirror_mode": {
    "name": "ipython",
    "version": 3
   },
   "file_extension": ".py",
   "mimetype": "text/x-python",
   "name": "python",
   "nbconvert_exporter": "python",
   "pygments_lexer": "ipython3",
   "version": "3.9.13"
  },
  "orig_nbformat": 4
 },
 "nbformat": 4,
 "nbformat_minor": 2
}
