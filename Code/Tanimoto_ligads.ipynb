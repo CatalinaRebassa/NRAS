{
 "cells": [
  {
   "cell_type": "code",
   "execution_count": 2,
   "metadata": {},
   "outputs": [
    {
     "name": "stdout",
     "output_type": "stream",
     "text": [
      "      Mol1  Mol2  Similarity\n",
      "0        0     1    0.954669\n",
      "1        0     2    0.938462\n",
      "2        0     3    0.770980\n",
      "3        0     4    0.889984\n",
      "4        0     5    0.948649\n",
      "...    ...   ...         ...\n",
      "1220    46    48    0.869041\n",
      "1221    46    49    0.914943\n",
      "1222    47    48    0.868322\n",
      "1223    47    49    0.929835\n",
      "1224    48    49    0.879564\n",
      "\n",
      "[1225 rows x 3 columns]\n"
     ]
    }
   ],
   "source": [
    "from rdkit import Chem\n",
    "from rdkit import DataStructs\n",
    "import pandas as pd\n",
    "\n",
    "# Supongamos que tienes un DataFrame llamado df que contiene las moléculas en la columna 'SMILES'\n",
    "# Asegúrate de tener la columna 'SMILES' con los SMILES de las moléculas en tu DataFrame\n",
    "\n",
    "\n",
    "df = pd.read_csv('../Data/50_NRASligands.csv')\n",
    "\n",
    "\n",
    "# Crear una lista vacía para almacenar los resultados\n",
    "results = []\n",
    "\n",
    "# Iterar sobre todas las combinaciones posibles\n",
    "for i in range(len(df)):\n",
    "    mol1 = Chem.MolFromSmiles(df.loc[i, 'SMILES'])\n",
    "    fp1 = Chem.RDKFingerprint(mol1)\n",
    "    \n",
    "    for j in range(i+1, len(df)):\n",
    "        mol2 = Chem.MolFromSmiles(df.loc[j, 'SMILES'])\n",
    "        fp2 = Chem.RDKFingerprint(mol2)\n",
    "        \n",
    "        similarity = DataStructs.TanimotoSimilarity(fp1, fp2)\n",
    "        results.append((i, j, similarity))\n",
    "\n",
    "# Crear un nuevo DataFrame con los resultados\n",
    "columns = ['Mol1', 'Mol2', 'Similarity']\n",
    "df_results = pd.DataFrame(results, columns=columns)\n",
    "\n",
    "# Imprimir el DataFrame con los resultados\n",
    "print(df_results)\n",
    "\n",
    "df_results.to_csv('../Data/similarity.csv', index=False)\n"
   ]
  }
 ],
 "metadata": {
  "kernelspec": {
   "display_name": "base",
   "language": "python",
   "name": "python3"
  },
  "language_info": {
   "codemirror_mode": {
    "name": "ipython",
    "version": 3
   },
   "file_extension": ".py",
   "mimetype": "text/x-python",
   "name": "python",
   "nbconvert_exporter": "python",
   "pygments_lexer": "ipython3",
   "version": "3.9.13"
  },
  "orig_nbformat": 4
 },
 "nbformat": 4,
 "nbformat_minor": 2
}
