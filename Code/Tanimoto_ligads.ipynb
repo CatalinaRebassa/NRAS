{
 "cells": [
  {
   "cell_type": "code",
   "execution_count": 3,
   "metadata": {},
   "outputs": [
    {
     "name": "stdout",
     "output_type": "stream",
     "text": [
      "        Mol1  Mol2  Similarity\n",
      "0          0     1    0.954669\n",
      "1          0     2    0.938462\n",
      "2          0     3    0.770980\n",
      "3          0     4    0.889984\n",
      "4          0     5    0.948649\n",
      "...      ...   ...         ...\n",
      "212873   649   651    0.927711\n",
      "212874   649   652    0.493041\n",
      "212875   650   651    0.929054\n",
      "212876   650   652    0.507392\n",
      "212877   651   652    0.502905\n",
      "\n",
      "[212878 rows x 3 columns]\n"
     ]
    }
   ],
   "source": [
    "from rdkit import Chem\n",
    "from rdkit import DataStructs\n",
    "import pandas as pd\n",
    "\n",
    "#carregam el csv amb els lligands\n",
    "\n",
    "df = pd.read_csv('../Data/SMILES_NRAS_ligands_features.csv')\n",
    "\n",
    "# Cream una llista buida\n",
    "results = []\n",
    "\n",
    "# lop per fer totes les combinacions possibles\n",
    "for i in range(len(df)):\n",
    "    mol1 = Chem.MolFromSmiles(df.loc[i, 'SMILES'])\n",
    "    fp1 = Chem.RDKFingerprint(mol1)\n",
    "    \n",
    "    for j in range(i+1, len(df)):\n",
    "        mol2 = Chem.MolFromSmiles(df.loc[j, 'SMILES'])\n",
    "        fp2 = Chem.RDKFingerprint(mol2)\n",
    "        \n",
    "        similarity = DataStructs.TanimotoSimilarity(fp1, fp2)\n",
    "        results.append((i, j, similarity))\n",
    "\n",
    "# Cream un data frame amb \n",
    "columns = ['Mol1', 'Mol2', 'Similarity']\n",
    "df_results = pd.DataFrame(results, columns=columns)\n",
    "\n",
    "print(df_results)\n",
    "\n",
    "#guardam el data frame \n",
    "df_results.to_csv('../Data/similarity.csv', index=False)\n"
   ]
  }
 ],
 "metadata": {
  "kernelspec": {
   "display_name": "base",
   "language": "python",
   "name": "python3"
  },
  "language_info": {
   "codemirror_mode": {
    "name": "ipython",
    "version": 3
   },
   "file_extension": ".py",
   "mimetype": "text/x-python",
   "name": "python",
   "nbconvert_exporter": "python",
   "pygments_lexer": "ipython3",
   "version": "3.9.13"
  },
  "orig_nbformat": 4
 },
 "nbformat": 4,
 "nbformat_minor": 2
}
