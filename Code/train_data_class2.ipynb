{
 "cells": [
  {
   "attachments": {},
   "cell_type": "markdown",
   "metadata": {},
   "source": [
    "Aqui volem crear el dataset que conte els inhibidors de NRAS mes les 1000 molecules que no ho son (les primeres 1000 de BindindDB)\n",
    "A mes farem dos versions de elles per poder comparar fer el train en classificacio i regressio."
   ]
  },
  {
   "cell_type": "code",
   "execution_count": 20,
   "metadata": {},
   "outputs": [
    {
     "name": "stdout",
     "output_type": "stream",
     "text": [
      "Index(['BindingDB Reactant_set_id', 'Ligand SMILES', 'Ligand InChI',\n",
      "       'Ligand InChI Key', 'BindingDB MonomerID', 'BindingDB Ligand Name',\n",
      "       'Target Name',\n",
      "       'Target Source Organism According to Curator or DataSource',\n",
      "       'IC50 (nM)'],\n",
      "      dtype='object')\n"
     ]
    }
   ],
   "source": [
    "import pandas as pd\n",
    "from rdkit import Chem\n",
    "from rdkit.Chem import Descriptors, Crippen\n",
    "\n",
    "df = pd.read_csv('../Data/BindingDB_1000.csv')\n",
    "print(df.columns)"
   ]
  },
  {
   "cell_type": "code",
   "execution_count": 21,
   "metadata": {},
   "outputs": [
    {
     "name": "stdout",
     "output_type": "stream",
     "text": [
      "1000\n",
      "                                              SMILES     Formula  \\\n",
      "0  O[C@@H]1[C@@H](O)[C@@H](Cc2ccccc2)N(C\\C=C\\c2cn...  C31H34N6O3   \n",
      "1  O[C@@H]1[C@@H](O)[C@@H](Cc2ccccc2)N(CC2CC2)C(=...  C29H34N4O3   \n",
      "2  OCCCCCCN1[C@H](Cc2ccccc2)[C@H](O)[C@@H](O)[C@@...  C29H40N2O4   \n",
      "3  OCCCCCN1[C@H](Cc2ccccc2)[C@H](O)[C@@H](O)[C@@H...  C28H38N2O4   \n",
      "4  CCCCN1[C@H](Cc2ccccc2)[C@H](O)[C@@H](O)[C@@H](...  C27H36N2O3   \n",
      "\n",
      "   Molecular weight    LogP  H-bond donor  H-bond acceptor    TPSA  \\\n",
      "0        538.269239  3.5414             4                5  121.37   \n",
      "1        486.263091  3.5149             3                4   92.69   \n",
      "2        480.298808  3.6311             3                4   84.24   \n",
      "3        466.283158  3.2410             3                4   84.24   \n",
      "4        436.272593  3.8785             2                3   64.01   \n",
      "\n",
      "   Rotatable bonds  \n",
      "0               10  \n",
      "1                9  \n",
      "2               12  \n",
      "3               11  \n",
      "4                9  \n"
     ]
    }
   ],
   "source": [
    "features = []\n",
    "\n",
    "for i, row in df.iterrows():\n",
    "    estructura = row['Ligand SMILES']\n",
    "    \n",
    "    mol = Chem.MolFromSmiles(estructura)\n",
    "    \n",
    "    if mol is not None:\n",
    "        # Amb les funcions RDKit extreim les dades \n",
    "        smiles = row['Ligand SMILES']\n",
    "        formula = Chem.rdMolDescriptors.CalcMolFormula(mol)\n",
    "        mw = Descriptors.ExactMolWt(mol)\n",
    "        logp = Crippen.MolLogP(mol)\n",
    "        num_hbd = Descriptors.NumHDonors(mol)\n",
    "        num_hba = Descriptors.NumHAcceptors(mol)\n",
    "        tpsa = Descriptors.TPSA(mol)\n",
    "        num_rb = Descriptors.NumRotatableBonds(mol)\n",
    "        \n",
    "        # Agregam les dades a una llista\n",
    "        features.append([smiles, formula, mw, logp, num_hbd, num_hba, tpsa, num_rb])\n",
    "\n",
    "# cream un data frame amb les dades extretes\n",
    "df_features = pd.DataFrame(features, columns=['SMILES','Formula', 'Molecular weight', 'LogP', \"H-bond donor\",\"H-bond acceptor\",\"TPSA\",\"Rotatable bonds\"])\n",
    "\n",
    "print(len(df_features))\n",
    "print(df_features.head(5))"
   ]
  },
  {
   "cell_type": "code",
   "execution_count": 22,
   "metadata": {},
   "outputs": [
    {
     "name": "stdout",
     "output_type": "stream",
     "text": [
      "829\n",
      "                                              SMILES     Formula  \\\n",
      "0  O[C@@H]1[C@@H](O)[C@@H](Cc2ccccc2)N(C\\C=C\\c2cn...  C31H34N6O3   \n",
      "1  O[C@@H]1[C@@H](O)[C@@H](Cc2ccccc2)N(CC2CC2)C(=...  C29H34N4O3   \n",
      "2  OCCCCCCN1[C@H](Cc2ccccc2)[C@H](O)[C@@H](O)[C@@...  C29H40N2O4   \n",
      "3  OCCCCCN1[C@H](Cc2ccccc2)[C@H](O)[C@@H](O)[C@@H...  C28H38N2O4   \n",
      "4  CCCCN1[C@H](Cc2ccccc2)[C@H](O)[C@@H](O)[C@@H](...  C27H36N2O3   \n",
      "\n",
      "   Molecular weight    LogP  H-bond donor  H-bond acceptor    TPSA  \\\n",
      "0        538.269239  3.5414             4                5  121.37   \n",
      "1        486.263091  3.5149             3                4   92.69   \n",
      "2        480.298808  3.6311             3                4   84.24   \n",
      "3        466.283158  3.2410             3                4   84.24   \n",
      "4        436.272593  3.8785             2                3   64.01   \n",
      "\n",
      "   Rotatable bonds  \n",
      "0               10  \n",
      "1                9  \n",
      "2               12  \n",
      "3               11  \n",
      "4                9  \n"
     ]
    }
   ],
   "source": [
    "df_smiles = df_features.drop_duplicates(subset=['SMILES'])\n",
    "print(len(df_smiles))\n",
    "print(df_smiles.head(5))"
   ]
  },
  {
   "cell_type": "code",
   "execution_count": 23,
   "metadata": {},
   "outputs": [
    {
     "name": "stdout",
     "output_type": "stream",
     "text": [
      "                                              SMILES     Formula  \\\n",
      "0  O[C@@H]1[C@@H](O)[C@@H](Cc2ccccc2)N(C\\C=C\\c2cn...  C31H34N6O3   \n",
      "1  O[C@@H]1[C@@H](O)[C@@H](Cc2ccccc2)N(CC2CC2)C(=...  C29H34N4O3   \n",
      "2  OCCCCCCN1[C@H](Cc2ccccc2)[C@H](O)[C@@H](O)[C@@...  C29H40N2O4   \n",
      "3  OCCCCCN1[C@H](Cc2ccccc2)[C@H](O)[C@@H](O)[C@@H...  C28H38N2O4   \n",
      "4  CCCCN1[C@H](Cc2ccccc2)[C@H](O)[C@@H](O)[C@@H](...  C27H36N2O3   \n",
      "\n",
      "   Molecular weight    LogP  H-bond donor  H-bond acceptor    TPSA  \\\n",
      "0        538.269239  3.5414             4                5  121.37   \n",
      "1        486.263091  3.5149             3                4   92.69   \n",
      "2        480.298808  3.6311             3                4   84.24   \n",
      "3        466.283158  3.2410             3                4   84.24   \n",
      "4        436.272593  3.8785             2                3   64.01   \n",
      "\n",
      "   Rotatable bonds  pIC50  \n",
      "0               10      0  \n",
      "1                9      0  \n",
      "2               12      0  \n",
      "3               11      0  \n",
      "4                9      0  \n"
     ]
    },
    {
     "name": "stderr",
     "output_type": "stream",
     "text": [
      "/var/folders/bz/kph7_yt91tx_gtyrx7z046wr0000gn/T/ipykernel_95439/2849857864.py:6: SettingWithCopyWarning: \n",
      "A value is trying to be set on a copy of a slice from a DataFrame.\n",
      "Try using .loc[row_indexer,col_indexer] = value instead\n",
      "\n",
      "See the caveats in the documentation: https://pandas.pydata.org/pandas-docs/stable/user_guide/indexing.html#returning-a-view-versus-a-copy\n",
      "  df_class.loc[:, 'pIC50'] = 0\n"
     ]
    }
   ],
   "source": [
    "#ara necessito afegir una columna que es digui pIC50\n",
    "#primera versio per la CLASSIFICACIO on tota la columna pIC50 ha de ser 0\n",
    "\n",
    "df_class = df_smiles\n",
    "\n",
    "df_class.loc[:, 'pIC50'] = 0\n",
    "print(df_class.head(5))"
   ]
  },
  {
   "cell_type": "code",
   "execution_count": 24,
   "metadata": {},
   "outputs": [
    {
     "name": "stdout",
     "output_type": "stream",
     "text": [
      "       Molecular weight        LogP  H-bond donor  H-bond acceptor  \\\n",
      "count        829.000000  829.000000    829.000000       829.000000   \n",
      "mean         614.292738    3.768603      3.834741         7.178528   \n",
      "std          119.344984    1.823891      1.845598         2.132557   \n",
      "min          238.062994   -2.385400      0.000000         3.000000   \n",
      "25%          549.287257    2.764700      2.000000         6.000000   \n",
      "50%          610.030506    3.661200      4.000000         7.000000   \n",
      "75%          678.204514    4.867520      5.000000         8.000000   \n",
      "max         1116.507772    8.680800     10.000000        14.000000   \n",
      "\n",
      "             TPSA  Rotatable bonds  pIC50  \n",
      "count  829.000000       829.000000  829.0  \n",
      "mean   134.964041        12.038601    0.0  \n",
      "std     42.018065         3.990140    0.0  \n",
      "min     47.020000         1.000000    0.0  \n",
      "25%    106.970000         9.000000    0.0  \n",
      "50%    126.220000        12.000000    0.0  \n",
      "75%    163.090000        15.000000    0.0  \n",
      "max    273.260000        27.000000    0.0  \n"
     ]
    }
   ],
   "source": [
    "summary = df_class.describe()\n",
    "print(summary)"
   ]
  },
  {
   "cell_type": "code",
   "execution_count": 32,
   "metadata": {},
   "outputs": [
    {
     "name": "stdout",
     "output_type": "stream",
     "text": [
      "1482\n"
     ]
    },
    {
     "data": {
      "image/png": "[encoded data removed]",
      "text/plain": [
       "<Figure size 640x480 with 1 Axes>"
      ]
     },
     "metadata": {},
     "output_type": "display_data"
    }
   ],
   "source": [
    "#ens baixem les dades dels que sabem que sin inhibidors\n",
    "df1 = pd.read_csv('../Data/pIC50_NRAS.csv')\n",
    "\n",
    "#unim els dos data frames \n",
    "df_class2 = pd.concat([df1, df_class])\n",
    "print(len(df_class2))\n",
    "\n",
    "#guardam\n",
    "df_class2.to_csv('../Data/pIC50_class2.csv', index=False)\n",
    "\n",
    "import matplotlib.pyplot as plt\n",
    "\n",
    "fig, ax = plt.subplots()\n",
    "ax.hist(df_class2['pIC50'], color = \"lightsteelblue\")\n",
    "\n",
    "plt.show()"
   ]
  }
 ],
 "metadata": {
  "kernelspec": {
   "display_name": "base",
   "language": "python",
   "name": "python3"
  },
  "language_info": {
   "codemirror_mode": {
    "name": "ipython",
    "version": 3
   },
   "file_extension": ".py",
   "mimetype": "text/x-python",
   "name": "python",
   "nbconvert_exporter": "python",
   "pygments_lexer": "ipython3",
   "version": "3.9.13"
  },
  "orig_nbformat": 4
 },
 "nbformat": 4,
 "nbformat_minor": 2
}
