{
 "cells": [
  {
   "cell_type": "markdown",
   "metadata": {},
   "source": [
    "## Model training and predictions - Regression with Dataset_1_reg\n",
    "\n",
    "In this script we trained a regression model using Dataset_1_reg, where NRAS inhibitors were target with pIC50 data"
   ]
  },
  {
   "cell_type": "code",
   "execution_count": 1,
   "metadata": {},
   "outputs": [],
   "source": [
    "import subprocess\n",
    "import numpy as np\n",
    "import seaborn as sns\n",
    "from rdkit import Chem\n",
    "from rdkit.Chem import AllChem\n",
    "from rdkit.Chem import DataStructs\n",
    "\n",
    "import pandas as pd\n",
    "import matplotlib.pyplot as plt\n",
    "from matplotlib.offsetbox import AnchoredText\n",
    "from sklearn.metrics import mean_absolute_error, mean_squared_error"
   ]
  },
  {
   "cell_type": "markdown",
   "metadata": {},
   "source": [
    "### Model training \n",
    "\n",
    "To perform the model train we use: *train_reg.sh* (see file in this folder)\n",
    "\n",
    "- **Dataset_1_reg.csv** : Dataset with 578 compounds with inhibitory activity against NRAS with pIC50 data.\n",
    "- **--target_columns pIC50** : pIC50 data.\n",
    "- **--features_generator rdkit_2d_normalized --no_features_scaling** : pre-normalized RDKit features\n",
    "- **--save_smiles_splits** : By default, random split the data into 80% train, 10% validation, and 10% test. With these line we can save the \n",
    "\n",
    "three datasets used, to further study of the results obtained. The diferents dataset are stored in *'test_checkpoints_class/fold_0'* :\n",
    "\n",
    "1. Train data : \"train_full\" (smiles + pIC50) / \"train_smiles\" (only smiles)\n",
    "2. Validation data : \"val_full\" (smiles + pIC50) / \"val_smiles\" (only smiles)\n",
    "3. Test data : \"test_full\" (smiles + pIC50) / \"test_smiles\" (only smiles)\n",
    "\n",
    "The model is trained for 30 epochs.\n",
    "The default metric for regression is RMSE."
   ]
  },
  {
   "cell_type": "code",
   "execution_count": 2,
   "metadata": {},
   "outputs": [
    {
     "name": "stderr",
     "output_type": "stream",
     "text": [
      "Command line\n",
      "python /Users/catalina/opt/anaconda3/bin/chemprop_train --data_path ../Data/Dataset_2.csv --dataset_type regression --save_dir test_checkpoints_reg --target_columns pIC50 --features_generator rdkit_2d_normalized --no_features_scaling --save_smiles_splits\n",
      "Args\n",
      "{'activation': 'ReLU',\n",
      " 'adding_h': False,\n",
      " 'aggregation': 'mean',\n",
      " 'aggregation_norm': 100,\n",
      " 'atom_descriptor_scaling': True,\n",
      " 'atom_descriptors': None,\n",
      " 'atom_descriptors_path': None,\n",
      " 'atom_descriptors_size': 0,\n",
      " 'atom_features_size': 0,\n",
      " 'atom_messages': False,\n",
      " 'batch_size': 50,\n",
      " 'bias': False,\n",
      " 'bias_solvent': False,\n",
      " 'bond_feature_scaling': True,\n",
      " 'bond_features_path': None,\n",
      " 'bond_features_size': 0,\n",
      " 'cache_cutoff': 10000,\n",
      " 'checkpoint_dir': None,\n",
      " 'checkpoint_frzn': None,\n",
      " 'checkpoint_path': None,\n",
      " 'checkpoint_paths': None,\n",
      " 'class_balance': False,\n",
      " 'config_path': None,\n",
      " 'crossval_index_dir': None,\n",
      " 'crossval_index_file': None,\n",
      " 'crossval_index_sets': None,\n",
      " 'cuda': False,\n",
      " 'data_path': '../Data/Dataset_2.csv',\n",
      " 'data_weights_path': None,\n",
      " 'dataset_type': 'regression',\n",
      " 'depth': 3,\n",
      " 'depth_solvent': 3,\n",
      " 'device': device(type='cpu'),\n",
      " 'dropout': 0.0,\n",
      " 'empty_cache': False,\n",
      " 'ensemble_size': 1,\n",
      " 'epochs': 30,\n",
      " 'evidential_regularization': 0,\n",
      " 'explicit_h': False,\n",
      " 'extra_metrics': [],\n",
      " 'features_generator': ['rdkit_2d_normalized'],\n",
      " 'features_only': False,\n",
      " 'features_path': None,\n",
      " 'features_scaling': False,\n",
      " 'features_size': None,\n",
      " 'ffn_hidden_size': 300,\n",
      " 'ffn_num_layers': 2,\n",
      " 'final_lr': 0.0001,\n",
      " 'folds_file': None,\n",
      " 'freeze_first_only': False,\n",
      " 'frzn_ffn_layers': 0,\n",
      " 'gpu': None,\n",
      " 'grad_clip': None,\n",
      " 'hidden_size': 300,\n",
      " 'hidden_size_solvent': 300,\n",
      " 'ignore_columns': None,\n",
      " 'init_lr': 0.0001,\n",
      " 'log_frequency': 10,\n",
      " 'loss_function': 'mse',\n",
      " 'max_data_size': None,\n",
      " 'max_lr': 0.001,\n",
      " 'metric': 'rmse',\n",
      " 'metrics': ['rmse'],\n",
      " 'minimize_score': True,\n",
      " 'mpn_shared': False,\n",
      " 'multiclass_num_classes': 3,\n",
      " 'no_atom_descriptor_scaling': False,\n",
      " 'no_bond_features_scaling': False,\n",
      " 'no_cache_mol': False,\n",
      " 'no_cuda': False,\n",
      " 'no_features_scaling': True,\n",
      " 'num_folds': 1,\n",
      " 'num_lrs': 1,\n",
      " 'num_tasks': 1,\n",
      " 'num_workers': 8,\n",
      " 'number_of_molecules': 1,\n",
      " 'overwrite_default_atom_features': False,\n",
      " 'overwrite_default_bond_features': False,\n",
      " 'phase_features_path': None,\n",
      " 'pytorch_seed': 0,\n",
      " 'quiet': False,\n",
      " 'reaction': False,\n",
      " 'reaction_mode': 'reac_diff',\n",
      " 'reaction_solvent': False,\n",
      " 'resume_experiment': False,\n",
      " 'save_dir': 'test_checkpoints_reg',\n",
      " 'save_preds': False,\n",
      " 'save_smiles_splits': True,\n",
      " 'seed': 0,\n",
      " 'separate_test_atom_descriptors_path': None,\n",
      " 'separate_test_bond_features_path': None,\n",
      " 'separate_test_features_path': None,\n",
      " 'separate_test_path': None,\n",
      " 'separate_test_phase_features_path': None,\n",
      " 'separate_val_atom_descriptors_path': None,\n",
      " 'separate_val_bond_features_path': None,\n",
      " 'separate_val_features_path': None,\n",
      " 'separate_val_path': None,\n",
      " 'separate_val_phase_features_path': None,\n",
      " 'show_individual_scores': False,\n",
      " 'smiles_columns': ['SMILES'],\n",
      " 'spectra_activation': 'exp',\n",
      " 'spectra_phase_mask_path': None,\n",
      " 'spectra_target_floor': 1e-08,\n",
      " 'split_key_molecule': 0,\n",
      " 'split_sizes': [0.8, 0.1, 0.1],\n",
      " 'split_type': 'random',\n",
      " 'target_columns': ['pIC50'],\n",
      " 'target_weights': None,\n",
      " 'task_names': ['pIC50'],\n",
      " 'test': False,\n",
      " 'test_fold_index': None,\n",
      " 'train_data_size': None,\n",
      " 'undirected': False,\n",
      " 'use_input_features': True,\n",
      " 'val_fold_index': None,\n",
      " 'warmup_epochs': 2.0}\n",
      "Setting molecule featurization parameters to default.\n",
      "Loading data\n",
      "1570it [00:00, 128878.70it/s]\n",
      "100%|██████████| 1570/1570 [03:26<00:00,  7.60it/s]\n",
      "100%|██████████| 1570/1570 [00:00<00:00, 84445.46it/s]\n",
      "Traceback (most recent call last):\n",
      "  File \"/Users/catalina/opt/anaconda3/bin/chemprop_train\", line 8, in <module>\n",
      "    sys.exit(chemprop_train())\n",
      "  File \"/Users/catalina/opt/anaconda3/lib/python3.9/site-packages/chemprop/train/cross_validate.py\", line 206, in chemprop_train\n",
      "    cross_validate(args=TrainArgs().parse_args(), train_func=run_training)\n",
      "  File \"/Users/catalina/opt/anaconda3/lib/python3.9/site-packages/chemprop/utils.py\", line 540, in wrap\n",
      "    result = func(*args, **kwargs)\n",
      "  File \"/Users/catalina/opt/anaconda3/lib/python3.9/site-packages/chemprop/train/cross_validate.py\", line 82, in cross_validate\n",
      "    validate_dataset_type(data, dataset_type=args.dataset_type)\n",
      "  File \"/Users/catalina/opt/anaconda3/lib/python3.9/site-packages/chemprop/data/utils.py\", line 709, in validate_dataset_type\n",
      "    raise ValueError('Regression data targets must be more than just 0 or 1 (or None). '\n",
      "ValueError: Regression data targets must be more than just 0 or 1 (or None). Please switch to classification.\n"
     ]
    },
    {
     "data": {
      "text/plain": [
       "CompletedProcess(args=['sh', './train_reg.sh'], returncode=1)"
      ]
     },
     "execution_count": 2,
     "metadata": {},
     "output_type": "execute_result"
    }
   ],
   "source": [
    "path = \"./train_reg.sh\"\n",
    "subprocess.run([\"sh\",path])"
   ]
  },
  {
   "cell_type": "markdown",
   "metadata": {},
   "source": [
    "### Evaluate the model on test data.\n",
    "\n",
    "Now that we have trained the model, the next step is to evaluate its performance on a test dataset (the split one).\n",
    "\n",
    "With *train_pred_class.sh* :\n",
    "\n",
    "chemprop_predict \\\n",
    "    --test_path test_checkpoints_class/fold_0/test_smiles.csv \\\n",
    "    --preds_path test_preds_reg.csv \\\n",
    "    --checkpoint_dir test_checkpoints_class \\\n",
    "    --features_generator rdkit_2d_normalized --no_features_scaling\n",
    "\n",
    "- **test_preds_reg.csv** : predictions for the compounds in our test dataset"
   ]
  },
  {
   "cell_type": "code",
   "execution_count": 3,
   "metadata": {},
   "outputs": [
    {
     "name": "stdout",
     "output_type": "stream",
     "text": [
      "Loading training args\n",
      "Setting molecule featurization parameters to default.\n",
      "Loading data\n"
     ]
    },
    {
     "name": "stderr",
     "output_type": "stream",
     "text": [
      "58it [00:00, 31001.61it/s]\n",
      "100%|██████████| 58/58 [00:07<00:00,  7.30it/s]\n",
      "  0%|          | 0/1 [00:00<?, ?it/s]"
     ]
    },
    {
     "name": "stdout",
     "output_type": "stream",
     "text": [
      "Validating SMILES\n",
      "Test size = 58\n",
      "Loading pretrained parameter \"encoder.encoder.0.cached_zero_vector\".\n",
      "Loading pretrained parameter \"encoder.encoder.0.W_i.weight\".\n",
      "Loading pretrained parameter \"encoder.encoder.0.W_h.weight\".\n",
      "Loading pretrained parameter \"encoder.encoder.0.W_o.weight\".\n",
      "Loading pretrained parameter \"encoder.encoder.0.W_o.bias\".\n",
      "Loading pretrained parameter \"ffn.1.weight\".\n",
      "Loading pretrained parameter \"ffn.1.bias\".\n",
      "Loading pretrained parameter \"ffn.4.weight\".\n",
      "Loading pretrained parameter \"ffn.4.bias\".\n"
     ]
    },
    {
     "name": "stderr",
     "output_type": "stream",
     "text": [
      "\n",
      "  0%|          | 0/2 [00:00<?, ?it/s]\u001b[A\n",
      " 50%|█████     | 1/2 [00:22<00:22, 22.32s/it]\u001b[A\n",
      "100%|██████████| 1/1 [00:32<00:00, 32.61s/it]\u001b[A\n"
     ]
    },
    {
     "name": "stdout",
     "output_type": "stream",
     "text": [
      "Saving predictions to test_preds_reg.csv\n",
      "Elapsed time = 0:00:41\n"
     ]
    },
    {
     "data": {
      "text/plain": [
       "CompletedProcess(args=['sh', './train_pred_reg.sh'], returncode=0)"
      ]
     },
     "execution_count": 3,
     "metadata": {},
     "output_type": "execute_result"
    }
   ],
   "source": [
    "path = \"./train_pred_reg.sh\"\n",
    "subprocess.run([\"sh\",path])"
   ]
  },
  {
   "cell_type": "markdown",
   "metadata": {},
   "source": [
    "### Test predictions representation\n",
    "\n",
    "Representation of the regression model's performance on the test data. The graph illustrates the correlation between true values and the model's predictions."
   ]
  },
  {
   "cell_type": "code",
   "execution_count": 4,
   "metadata": {},
   "outputs": [
    {
     "name": "stdout",
     "output_type": "stream",
     "text": [
      "Index(['SMILES', 'pIC50'], dtype='object')\n",
      "58\n"
     ]
    }
   ],
   "source": [
    "#load real pIC50 classification\n",
    "df_true = pd.read_csv('test_checkpoints_reg/fold_0/test_full.csv')\n",
    "print(df_true.columns)\n",
    "print(len(df_true))"
   ]
  },
  {
   "cell_type": "code",
   "execution_count": 5,
   "metadata": {},
   "outputs": [
    {
     "name": "stdout",
     "output_type": "stream",
     "text": [
      "Index(['SMILES', 'pIC50'], dtype='object')\n",
      "Index(['SMILES', 'preds'], dtype='object')\n",
      "                                               SMILES     preds\n",
      "0   CCn1c(c2CC(C)(C)COC(=O)[C@@H]3CCCN(N3)C(=O)[C@...  6.387793\n",
      "1   CCn1c(c2CC(C)(C)COC(=O)[C@@H]3CCCN(N3)C(=O)[C@...  6.407560\n",
      "2   CCn1c(c2CC(C)(C)COC(=O)[C@@H]3CCCN(N3)C(=O)[C@...  6.389182\n",
      "3   CCn1c(c2CC(C)(C)COC(=O)[C@@H]3CCCN(N3)C(=O)[C@...  6.377290\n",
      "4   CCn1c(c2CC(C)(C)COC(=O)[C@@H]3CCCN(N3)C(=O)[C@...  6.481808\n",
      "5   CCn1c(c2CC(C)(C)COC(=O)[C@@H]3CCCN(N3)C(=O)[C@...  6.779475\n",
      "6   CCn1c(c2CC(C)(C)COC(=O)[C@@H]3CCCN(N3)C(=O)[C@...  6.560230\n",
      "7   CCn1c(c2CC(C)(C)COC(=O)[C@@H]3CCCN(N3)C(=O)[C@...  6.492457\n",
      "8   CCn1c(c2CC(C)(C)COC(=O)[C@@H]3CCCN(N3)C(=O)[C@...  6.491782\n",
      "9   CCn1c(c2CC(C)(C)COC(=O)[C@@H]3CCCN(N3)C(=O)[C@...  6.469603\n",
      "10  CO[C@@H](C)c1ncccc1-c1c2CC(C)(C)COC(=O)[C@@H]3...  6.452572\n",
      "11  CCn1c(c2CC(C)(C)COC(=O)[C@@H]3CCCN(N3)C(=O)[C@...  6.495080\n",
      "12  CCn1c(c2CC(C)(C)COC(=O)[C@@H]3CCCN(N3)C(=O)[C@...  6.453442\n",
      "13  CCn1c(c2CC(C)(C)COC(=O)[C@@H]3CCCN(N3)C(=O)[C@...  6.863057\n",
      "14  COC(C)c1ncccc1-c1c2CC(C)(C)COC(=O)[C@@H]3CCCN(...  6.382239\n",
      "15  CCn1c(c2CC(C)(C)COC(=O)[C@@H]3CCCN(N3)C(=O)[C@...  6.792998\n",
      "16  CCn1c(c2CC(C)(C)COC(=O)[C@@H]3CCCN(N3)C(=O)[C@...  6.411060\n",
      "17  CCn1c(c2CC(C)(C)COC(=O)[C@@H]3CCCN(N3)C(=O)[C@...  6.359294\n",
      "18  CCn1c(c2CC(C)(C)COC(=O)[C@@H]3CCCN(N3)C(=O)[C@...  6.386319\n",
      "19  CCn1c(c2CC(C)(C)COC(=O)[C@@H]3CCCN(N3)C(=O)[C@...  6.744490\n",
      "20      COc1cc2ncc(-c3cccc(NC4CCNC4)n3)n2cc1-c1cccnc1  5.454883\n",
      "21  CCn1c(c2CC(C)(C)COC(=O)[C@@H]3CCCN(N3)C(=O)[C@...  6.671015\n",
      "22  CCn1c(c2CC(C)(C)COC(=O)[C@@H]3CCCN(N3)C(=O)[C@...  6.537118\n",
      "23            COc1cc2ncc(-c3cccc(NC4CCNC4)n3)n2cc1C#N  5.503373\n",
      "24  CCn1c(c2CC(C)(C)COC(=O)[C@@H]3CCCN(N3)C(=O)[C@...  6.482611\n",
      "25  CCn1c(c2CC(C)(C)COC(=O)[C@@H]3CCCN(N3)C(=O)[C@...  6.842049\n",
      "26  CO[C@@H](C)c1ncc(cc1-c1c2CC(C)(C)COC(=O)[C@@H]...  6.479754\n",
      "27  CCn1c(c2CC(C)(C)COC(=O)[C@@H]3CCCN(N3)C(=O)[C@...  6.872758\n",
      "28  COC(C)c1ncccc1-c1c2CC(C)(C)COC(=O)[C@@H]3CCCN(...  6.384439\n",
      "29  CCn1c(c2CC(C)(C)COC(=O)[C@@H]3CCCN(N3)C(=O)[C@...  6.475046\n",
      "30  CCn1c(c2CC(C)(C)COC(=O)[C@@H]3CCCN(N3)C(=O)[C@...  6.441406\n",
      "31  CCn1c(c2CC(C)(C)COC(=O)[C@@H]3CCCN(N3)C(=O)[C@...  6.747487\n",
      "32  CO[C@@H](C)c1ncccc1-c1c2CC(C)(C)COC(=O)[C@@H]3...  6.708841\n",
      "33  CCn1c(c2CC(C)(C)COC(=O)[C@@H]3CCCN(N3)C(=O)[C@...  6.482920\n",
      "34  CCn1c(c2CC(C)(C)COC(=O)[C@@H]3CCCN(N3)C(=O)[C@...  6.835741\n",
      "35  CCn1c(c2CC(C)(C)COC(=O)[C@@H]3CCCN(N3)C(=O)[C@...  6.414185\n",
      "36  CCn1c(c2CC(C)(C)COC(=O)[C@@H]3CCCN(N3)C(=O)[C@...  6.484158\n",
      "37  COCc1ncccc1-c1nc2ccc-3cc2n1CC(C)(C)COC(=O)[C@@...  6.420187\n",
      "38  CCn1c(c2CC(C)(C)COC(=O)[C@@H]3CCCN(N3)C(=O)[C@...  6.367310\n",
      "39  CCn1c(c2CC(C)(C)COC(=O)[C@@H]3CCCN(N3)C(=O)[C@...  6.815459\n",
      "40  CCn1c(c2CC(C)(C)COC(=O)[C@@H]3CCCN(N3)C(=O)[C@...  6.743468\n",
      "41  CCn1c(c2CC(C)(C)COC(=O)[C@@H]3CCCN(N3)C(=O)[C@...  6.983502\n",
      "42  CCn1c(c2CC(C)(C)COC(=O)[C@@H]3CCCN(N3)C(=O)[C@...  6.560241\n",
      "43  CCn1c(c2CC(C)(C)COC(=O)[C@@H]3CCCN(N3)C(=O)[C@...  6.545277\n",
      "44  CCn1c(c2CC(C)(C)COC(=O)[C@@H]3CCCN(N3)C(=O)[C@...  6.400448\n",
      "45  CCn1c(c2CC(C)(C)COC(=O)[C@@H]3CCCN(N3)C(=O)[C@...  6.495697\n",
      "46  CCn1c(c2CC(C)(C)COC(=O)[C@@H]3CCCN(N3)C(=O)[C@...  6.553944\n",
      "47  CCn1c(c2CC(C)(C)COC(=O)[C@@H]3CCCN(N3)C(=O)[C@...  6.511357\n",
      "48  CCn1c(c2CC(C)(C)COC(=O)[C@@H]3CCCN(N3)C(=O)[C@...  6.419272\n",
      "49  CCn1c(c2CC(C)(C)COC(=O)[C@@H]3CCCN(N3)C(=O)[C@...  6.835708\n",
      "50  CCn1c(c2CC(C)(C)COC(=O)[C@@H]3CCCN(N3)C(=O)[C@...  6.422216\n",
      "51  CCn1c(c2CC(C)(C)COC(=O)[C@@H]3CCCN(N3)C(=O)[C@...  6.893889\n",
      "52  COC(C)c1ncccc1-c1c2CC(C)(C)COC(=O)[C@@H]3CCCN(...  6.374666\n",
      "53  CCn1c(c2CC(C)(C)COC(=O)[C@@H]3CCCN(N3)C(=O)[C@...  6.554311\n",
      "54  CCn1c(c2CC(C)(C)COC(=O)[C@@H]3CCCN(N3)C(=O)[C@...  6.842960\n",
      "55  CCn1c(c2CC(C)(C)COC(=O)[C@@H]3CCCN(N3)C(=O)[C@...  6.383047\n",
      "56  CCn1c(c2CC(C)(C)COC(=O)[C@@H]3CCCN(N3)C(=O)[C@...  6.428059\n",
      "57  CO[C@@H](C)c1ncccc1-c1c2CC(C)(C)COC(=O)[C@@H]3...  6.728275\n"
     ]
    }
   ],
   "source": [
    "#load predicted values\n",
    "df_preds = pd.read_csv('test_preds_reg.csv')\n",
    "print(df_preds.columns)\n",
    "\n",
    "#column renaming to better manage data\n",
    "df_preds.rename(columns={'pIC50': 'preds'}, inplace=True)\n",
    "print(df_preds.columns)\n",
    "print(df_preds)"
   ]
  },
  {
   "cell_type": "code",
   "execution_count": 6,
   "metadata": {},
   "outputs": [
    {
     "name": "stdout",
     "output_type": "stream",
     "text": [
      "                                               SMILES     pIC50     preds\n",
      "0   CCn1c(c2CC(C)(C)COC(=O)[C@@H]3CCCN(N3)C(=O)[C@...  6.259637  6.387793\n",
      "1   CCn1c(c2CC(C)(C)COC(=O)[C@@H]3CCCN(N3)C(=O)[C@...  6.259637  6.407560\n",
      "2   CCn1c(c2CC(C)(C)COC(=O)[C@@H]3CCCN(N3)C(=O)[C@...  6.259637  6.389182\n",
      "3   CCn1c(c2CC(C)(C)COC(=O)[C@@H]3CCCN(N3)C(=O)[C@...  6.259637  6.377290\n",
      "4   CCn1c(c2CC(C)(C)COC(=O)[C@@H]3CCCN(N3)C(=O)[C@...  6.259637  6.481808\n",
      "5   CCn1c(c2CC(C)(C)COC(=O)[C@@H]3CCCN(N3)C(=O)[C@...  6.259637  6.779475\n",
      "6   CCn1c(c2CC(C)(C)COC(=O)[C@@H]3CCCN(N3)C(=O)[C@...  5.259637  6.560230\n",
      "7   CCn1c(c2CC(C)(C)COC(=O)[C@@H]3CCCN(N3)C(=O)[C@...  6.259637  6.492457\n",
      "8   CCn1c(c2CC(C)(C)COC(=O)[C@@H]3CCCN(N3)C(=O)[C@...  6.259637  6.491782\n",
      "9   CCn1c(c2CC(C)(C)COC(=O)[C@@H]3CCCN(N3)C(=O)[C@...  6.259637  6.469603\n",
      "10  CO[C@@H](C)c1ncccc1-c1c2CC(C)(C)COC(=O)[C@@H]3...  7.259637  6.452572\n",
      "11  CCn1c(c2CC(C)(C)COC(=O)[C@@H]3CCCN(N3)C(=O)[C@...  7.259637  6.495080\n",
      "12  CCn1c(c2CC(C)(C)COC(=O)[C@@H]3CCCN(N3)C(=O)[C@...  6.259637  6.453442\n",
      "13  CCn1c(c2CC(C)(C)COC(=O)[C@@H]3CCCN(N3)C(=O)[C@...  7.259637  6.863057\n",
      "14  COC(C)c1ncccc1-c1c2CC(C)(C)COC(=O)[C@@H]3CCCN(...  7.259637  6.382239\n",
      "15  CCn1c(c2CC(C)(C)COC(=O)[C@@H]3CCCN(N3)C(=O)[C@...  6.259637  6.792998\n",
      "16  CCn1c(c2CC(C)(C)COC(=O)[C@@H]3CCCN(N3)C(=O)[C@...  5.259637  6.411060\n",
      "17  CCn1c(c2CC(C)(C)COC(=O)[C@@H]3CCCN(N3)C(=O)[C@...  6.259637  6.359294\n",
      "18  CCn1c(c2CC(C)(C)COC(=O)[C@@H]3CCCN(N3)C(=O)[C@...  7.259637  6.386319\n",
      "19  CCn1c(c2CC(C)(C)COC(=O)[C@@H]3CCCN(N3)C(=O)[C@...  6.259637  6.744490\n",
      "20      COc1cc2ncc(-c3cccc(NC4CCNC4)n3)n2cc1-c1cccnc1  5.003488  5.454883\n",
      "21  CCn1c(c2CC(C)(C)COC(=O)[C@@H]3CCCN(N3)C(=O)[C@...  7.259637  6.671015\n",
      "22  CCn1c(c2CC(C)(C)COC(=O)[C@@H]3CCCN(N3)C(=O)[C@...  7.259637  6.537118\n",
      "23            COc1cc2ncc(-c3cccc(NC4CCNC4)n3)n2cc1C#N  5.253366  5.503373\n",
      "24  CCn1c(c2CC(C)(C)COC(=O)[C@@H]3CCCN(N3)C(=O)[C@...  6.259637  6.482611\n",
      "25  CCn1c(c2CC(C)(C)COC(=O)[C@@H]3CCCN(N3)C(=O)[C@...  7.259637  6.842049\n",
      "26  CO[C@@H](C)c1ncc(cc1-c1c2CC(C)(C)COC(=O)[C@@H]...  7.259637  6.479754\n",
      "27  CCn1c(c2CC(C)(C)COC(=O)[C@@H]3CCCN(N3)C(=O)[C@...  7.259637  6.872758\n",
      "28  COC(C)c1ncccc1-c1c2CC(C)(C)COC(=O)[C@@H]3CCCN(...  5.259637  6.384439\n",
      "29  CCn1c(c2CC(C)(C)COC(=O)[C@@H]3CCCN(N3)C(=O)[C@...  7.259637  6.475046\n",
      "30  CCn1c(c2CC(C)(C)COC(=O)[C@@H]3CCCN(N3)C(=O)[C@...  7.259637  6.441406\n",
      "31  CCn1c(c2CC(C)(C)COC(=O)[C@@H]3CCCN(N3)C(=O)[C@...  6.259637  6.747487\n",
      "32  CO[C@@H](C)c1ncccc1-c1c2CC(C)(C)COC(=O)[C@@H]3...  6.259637  6.708841\n",
      "33  CCn1c(c2CC(C)(C)COC(=O)[C@@H]3CCCN(N3)C(=O)[C@...  6.259637  6.482920\n",
      "34  CCn1c(c2CC(C)(C)COC(=O)[C@@H]3CCCN(N3)C(=O)[C@...  7.259637  6.835741\n",
      "35  CCn1c(c2CC(C)(C)COC(=O)[C@@H]3CCCN(N3)C(=O)[C@...  6.259637  6.414185\n",
      "36  CCn1c(c2CC(C)(C)COC(=O)[C@@H]3CCCN(N3)C(=O)[C@...  7.259637  6.484158\n",
      "37  COCc1ncccc1-c1nc2ccc-3cc2n1CC(C)(C)COC(=O)[C@@...  6.259637  6.420187\n",
      "38  CCn1c(c2CC(C)(C)COC(=O)[C@@H]3CCCN(N3)C(=O)[C@...  6.259637  6.367310\n",
      "39  CCn1c(c2CC(C)(C)COC(=O)[C@@H]3CCCN(N3)C(=O)[C@...  7.259637  6.815459\n",
      "40  CCn1c(c2CC(C)(C)COC(=O)[C@@H]3CCCN(N3)C(=O)[C@...  6.259637  6.743468\n",
      "41  CCn1c(c2CC(C)(C)COC(=O)[C@@H]3CCCN(N3)C(=O)[C@...  6.259637  6.983502\n",
      "42  CCn1c(c2CC(C)(C)COC(=O)[C@@H]3CCCN(N3)C(=O)[C@...  6.259637  6.560241\n",
      "43  CCn1c(c2CC(C)(C)COC(=O)[C@@H]3CCCN(N3)C(=O)[C@...  6.259637  6.545277\n",
      "44  CCn1c(c2CC(C)(C)COC(=O)[C@@H]3CCCN(N3)C(=O)[C@...  7.259637  6.400448\n",
      "45  CCn1c(c2CC(C)(C)COC(=O)[C@@H]3CCCN(N3)C(=O)[C@...  7.259637  6.495697\n",
      "46  CCn1c(c2CC(C)(C)COC(=O)[C@@H]3CCCN(N3)C(=O)[C@...  6.259637  6.553944\n",
      "47  CCn1c(c2CC(C)(C)COC(=O)[C@@H]3CCCN(N3)C(=O)[C@...  7.259637  6.511357\n",
      "48  CCn1c(c2CC(C)(C)COC(=O)[C@@H]3CCCN(N3)C(=O)[C@...  7.259637  6.419272\n",
      "49  CCn1c(c2CC(C)(C)COC(=O)[C@@H]3CCCN(N3)C(=O)[C@...  7.259637  6.835708\n",
      "50  CCn1c(c2CC(C)(C)COC(=O)[C@@H]3CCCN(N3)C(=O)[C@...  7.259637  6.422216\n",
      "51  CCn1c(c2CC(C)(C)COC(=O)[C@@H]3CCCN(N3)C(=O)[C@...  6.259637  6.893889\n",
      "52  COC(C)c1ncccc1-c1c2CC(C)(C)COC(=O)[C@@H]3CCCN(...  6.259637  6.374666\n",
      "53  CCn1c(c2CC(C)(C)COC(=O)[C@@H]3CCCN(N3)C(=O)[C@...  6.259637  6.554311\n",
      "54  CCn1c(c2CC(C)(C)COC(=O)[C@@H]3CCCN(N3)C(=O)[C@...  7.259637  6.842960\n",
      "55  CCn1c(c2CC(C)(C)COC(=O)[C@@H]3CCCN(N3)C(=O)[C@...  6.259637  6.383047\n",
      "56  CCn1c(c2CC(C)(C)COC(=O)[C@@H]3CCCN(N3)C(=O)[C@...  6.259637  6.428059\n",
      "57  CO[C@@H](C)c1ncccc1-c1c2CC(C)(C)COC(=O)[C@@H]3...  6.259637  6.728275\n",
      "58\n"
     ]
    }
   ],
   "source": [
    "#combination of the two data sets\n",
    "df = df_true.merge(df_preds, on='SMILES', how='inner')\n",
    "\n",
    "print(df)\n",
    "print(len(df))"
   ]
  },
  {
   "cell_type": "code",
   "execution_count": 7,
   "metadata": {},
   "outputs": [],
   "source": [
    "#representation\n",
    "\n",
    "def plot_parity(y_true, y_pred, y_pred_unc=None):\n",
    "    \n",
    "    axmin = min(min(y_true), min(y_pred)) - 0.1*(max(y_true)-min(y_true))\n",
    "    axmax = max(max(y_true), max(y_pred)) + 0.1*(max(y_true)-min(y_true))\n",
    "    \n",
    "    mae = mean_absolute_error(y_true, y_pred)\n",
    "    rmse = mean_squared_error(y_true, y_pred, squared=False)\n",
    "    \n",
    "    plt.plot([axmin, axmax], [axmin, axmax], '--k')\n",
    "\n",
    "    plt.errorbar(y_true, y_pred, yerr=y_pred_unc, linewidth=0, marker='o', markeredgecolor='w', alpha=1, elinewidth=1)\n",
    "    \n",
    "    plt.xlim((axmin, axmax))\n",
    "    plt.ylim((axmin, axmax))\n",
    "    \n",
    "    ax = plt.gca()\n",
    "    ax.set_aspect('equal')\n",
    "    \n",
    "    at = AnchoredText(\n",
    "    f\"MAE = {mae:.2f}\\nRMSE = {rmse:.2f}\", prop=dict(size=10), frameon=True, loc='upper left')\n",
    "    at.patch.set_boxstyle(\"round,pad=0.,rounding_size=0.2\")\n",
    "    ax.add_artist(at)\n",
    "    \n",
    "    plt.xlabel('True')\n",
    "    plt.ylabel('Chemprop Predicted')\n",
    "    plt.title('Regression')\n",
    "\n",
    "    plt.savefig('../Results/Figures/reg1.png', dpi=300) # saving the plot\n",
    "    \n",
    "    plt.show()\n",
    "    \n",
    "    return"
   ]
  },
  {
   "cell_type": "code",
   "execution_count": 8,
   "metadata": {},
   "outputs": [
    {
     "data": {
      "image/png": "[encoded data removed]",
      "text/plain": [
       "<Figure size 640x480 with 1 Axes>"
      ]
     },
     "metadata": {},
     "output_type": "display_data"
    }
   ],
   "source": [
    "plot_parity(df.pIC50, df.preds)"
   ]
  }
 ],
 "metadata": {
  "kernelspec": {
   "display_name": "base",
   "language": "python",
   "name": "python3"
  },
  "language_info": {
   "codemirror_mode": {
    "name": "ipython",
    "version": 3
   },
   "file_extension": ".py",
   "mimetype": "text/x-python",
   "name": "python",
   "nbconvert_exporter": "python",
   "pygments_lexer": "ipython3",
   "version": "3.9.13"
  },
  "orig_nbformat": 4
 },
 "nbformat": 4,
 "nbformat_minor": 2
}
