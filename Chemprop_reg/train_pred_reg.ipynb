{
 "cells": [
  {
   "cell_type": "code",
   "execution_count": 8,
   "metadata": {},
   "outputs": [],
   "source": [
    "import pandas as pd\n",
    "import matplotlib.pyplot as plt\n",
    "from matplotlib.offsetbox import AnchoredText\n",
    "from sklearn.metrics import mean_absolute_error, mean_squared_error"
   ]
  },
  {
   "cell_type": "code",
   "execution_count": 9,
   "metadata": {},
   "outputs": [
    {
     "name": "stdout",
     "output_type": "stream",
     "text": [
      "Index(['SMILES', 'pIC50'], dtype='object')\n"
     ]
    }
   ],
   "source": [
    "#aqui ens baixem les dades de les molecules amb el pIC50 real\n",
    "df_true = pd.read_csv('test_checkpoints_reg/fold_0/test_full.csv')\n",
    "print(df_true.columns)"
   ]
  },
  {
   "cell_type": "code",
   "execution_count": 10,
   "metadata": {},
   "outputs": [
    {
     "name": "stdout",
     "output_type": "stream",
     "text": [
      "Index(['SMILES', 'pIC50'], dtype='object')\n",
      "Index(['SMILES', 'preds'], dtype='object')\n"
     ]
    }
   ],
   "source": [
    "#aqui ens baixem les dades de les molecules amb el pIC50 que ens ha predit el model creat\n",
    "df_preds = pd.read_csv('test_preds_reg.csv')\n",
    "print(df_preds.columns)\n",
    "\n",
    "#com que tenen el mateix nom canviem el nom de la columna pIC50 en aquest data frame per preds\n",
    "#aixi identificarem millor les prediccions\n",
    "\n",
    "df_preds.rename(columns={'pIC50': 'preds'}, inplace=True)\n",
    "print(df_preds.columns)"
   ]
  },
  {
   "cell_type": "code",
   "execution_count": 11,
   "metadata": {},
   "outputs": [
    {
     "name": "stdout",
     "output_type": "stream",
     "text": [
      "                                               SMILES     pIC50     preds\n",
      "0   CCn1c(c2CC(C)(C)COC(=O)[C@@H]3CCCN(N3)C(=O)[C@...  6.259637  6.880574\n",
      "1       COc1cc2ncc(-c3cccc(NC4CCNC4)n3)n2cc1-c1cccnc1  5.003488  5.252134\n",
      "2   CCn1c(c2CC(C)(C)COC(=O)[C@@H]3CCCN(N3)C(=O)[C@...  7.259637  6.426299\n",
      "3             COc1cc2ncc(-c3cccc(NC4CCNC4)n3)n2cc1C#N  5.253366  5.241747\n",
      "4   CCn1c(c2CC(C)(C)COC(=O)[C@@H]3CCCN(N3)C(=O)[C@...  6.259637  6.500422\n",
      "5   CCn1c(c2CC(C)(C)COC(=O)[C@@H]3CCCN(N3)C(=O)[C@...  7.259637  6.729844\n",
      "6   CCn1c(c2CC(C)(C)COC(=O)[C@@H]3CCCN(N3)C(=O)[C@...  7.259637  6.729844\n",
      "7   CCn1c(c2CC(C)(C)COC(=O)[C@@H]3CCCN(N3)C(=O)[C@...  7.259637  6.628177\n",
      "8   CCn1c(c2CC(C)(C)COC(=O)[C@@H]3CCCN(N3)C(=O)[C@...  7.259637  6.312819\n",
      "9   CCn1c(c2CC(C)(C)COC(=O)[C@@H]3CCCN(N3)C(=O)[C@...  7.259637  6.191578\n",
      "10  CCn1c(c2CC(C)(C)COC(=O)[C@@H]3CCCN(N3)C(=O)[C@...  6.259637  6.491951\n",
      "11  CCn1c(c2CC(C)(C)COC(=O)[C@@H]3CCCN(N3)C(=O)[C@...  6.259637  6.014139\n"
     ]
    }
   ],
   "source": [
    "df = df_true.merge(df_preds, on='SMILES', how='inner')\n",
    "\n",
    "# 'how' determina cómo se realiza la unión, en este caso, 'inner' toma solo las moléculas comunes\n",
    "\n",
    "print(df)"
   ]
  },
  {
   "cell_type": "code",
   "execution_count": 12,
   "metadata": {},
   "outputs": [],
   "source": [
    "def plot_parity(y_true, y_pred, y_pred_unc=None):\n",
    "    \n",
    "    axmin = min(min(y_true), min(y_pred)) - 0.1*(max(y_true)-min(y_true))\n",
    "    axmax = max(max(y_true), max(y_pred)) + 0.1*(max(y_true)-min(y_true))\n",
    "    \n",
    "    mae = mean_absolute_error(y_true, y_pred)\n",
    "    rmse = mean_squared_error(y_true, y_pred, squared=False)\n",
    "    \n",
    "    plt.plot([axmin, axmax], [axmin, axmax], '--k')\n",
    "\n",
    "    plt.errorbar(y_true, y_pred, yerr=y_pred_unc, linewidth=0, marker='o', markeredgecolor='w', alpha=1, elinewidth=1)\n",
    "    \n",
    "    plt.xlim((axmin, axmax))\n",
    "    plt.ylim((axmin, axmax))\n",
    "    \n",
    "    ax = plt.gca()\n",
    "    ax.set_aspect('equal')\n",
    "    \n",
    "    at = AnchoredText(\n",
    "    f\"MAE = {mae:.2f}\\nRMSE = {rmse:.2f}\", prop=dict(size=10), frameon=True, loc='upper left')\n",
    "    at.patch.set_boxstyle(\"round,pad=0.,rounding_size=0.2\")\n",
    "    ax.add_artist(at)\n",
    "    \n",
    "    plt.xlabel('True')\n",
    "    plt.ylabel('Chemprop Predicted')\n",
    "    plt.title('Regression')\n",
    "\n",
    "    plt.savefig('../Results/Figures/reg1.png', dpi=300) # saving the plot\n",
    "    \n",
    "    plt.show()\n",
    "    \n",
    "    return"
   ]
  },
  {
   "cell_type": "code",
   "execution_count": 13,
   "metadata": {},
   "outputs": [
    {
     "data": {
      "image/png": "[encoded data removed]",
      "text/plain": [
       "<Figure size 640x480 with 1 Axes>"
      ]
     },
     "metadata": {},
     "output_type": "display_data"
    }
   ],
   "source": [
    "plot_parity(df.pIC50, df.preds)"
   ]
  }
 ],
 "metadata": {
  "kernelspec": {
   "display_name": "base",
   "language": "python",
   "name": "python3"
  },
  "language_info": {
   "codemirror_mode": {
    "name": "ipython",
    "version": 3
   },
   "file_extension": ".py",
   "mimetype": "text/x-python",
   "name": "python",
   "nbconvert_exporter": "python",
   "pygments_lexer": "ipython3",
   "version": "3.9.13"
  },
  "orig_nbformat": 4
 },
 "nbformat": 4,
 "nbformat_minor": 2
}
