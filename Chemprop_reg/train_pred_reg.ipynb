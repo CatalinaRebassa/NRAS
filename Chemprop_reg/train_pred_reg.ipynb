{
 "cells": [
  {
   "cell_type": "code",
   "execution_count": 2,
   "metadata": {},
   "outputs": [],
   "source": [
    "import pandas as pd\n",
    "import matplotlib.pyplot as plt\n",
    "from matplotlib.offsetbox import AnchoredText\n",
    "from sklearn.metrics import mean_absolute_error, mean_squared_error\n",
    "#per fer grafic de la regressio\n",
    "def plot_parity(y_true, y_pred, y_pred_unc=None):\n",
    "    \n",
    "    axmin = min(min(y_true), min(y_pred)) - 0.1*(max(y_true)-min(y_true))\n",
    "    axmax = max(max(y_true), max(y_pred)) + 0.1*(max(y_true)-min(y_true))\n",
    "    \n",
    "    mae = mean_absolute_error(y_true, y_pred)\n",
    "    rmse = mean_squared_error(y_true, y_pred, squared=False)\n",
    "    \n",
    "    plt.plot([axmin, axmax], [axmin, axmax], '--k')\n",
    "\n",
    "    plt.errorbar(y_true, y_pred, yerr=y_pred_unc, linewidth=0, marker='o', markeredgecolor='w', alpha=1, elinewidth=1)\n",
    "    \n",
    "    plt.xlim((axmin, axmax))\n",
    "    plt.ylim((axmin, axmax))\n",
    "    \n",
    "    ax = plt.gca()\n",
    "    ax.set_aspect('equal')\n",
    "    \n",
    "    at = AnchoredText(\n",
    "    f\"MAE = {mae:.2f}\\nRMSE = {rmse:.2f}\", prop=dict(size=10), frameon=True, loc='upper left')\n",
    "    at.patch.set_boxstyle(\"round,pad=0.,rounding_size=0.2\")\n",
    "    ax.add_artist(at)\n",
    "    \n",
    "    plt.xlabel('True')\n",
    "    plt.ylabel('Chemprop Predicted')\n",
    "    plt.title('Regression')\n",
    "    \n",
    "    plt.show()\n",
    "    \n",
    "    return"
   ]
  },
  {
   "cell_type": "code",
   "execution_count": 3,
   "metadata": {},
   "outputs": [
    {
     "name": "stdout",
     "output_type": "stream",
     "text": [
      "Index(['SMILES', 'pIC50'], dtype='object')\n"
     ]
    }
   ],
   "source": [
    "#aqui ens baixem les dades de les molecules amb el pIC50 real\n",
    "df_true = pd.read_csv('test_checkpoints_reg/fold_0/test_full.csv')\n",
    "print(df_true.columns)\n"
   ]
  },
  {
   "cell_type": "code",
   "execution_count": 4,
   "metadata": {},
   "outputs": [
    {
     "name": "stdout",
     "output_type": "stream",
     "text": [
      "Index(['SMILES', 'pIC50'], dtype='object')\n",
      "Index(['SMILES', 'preds'], dtype='object')\n"
     ]
    }
   ],
   "source": [
    "#aqui ens baixem les dades de les molecules amb el pIC50 que ens ha predit el model creat\n",
    "df_preds = pd.read_csv('test_preds_reg.csv')\n",
    "print(df_preds.columns)\n",
    "\n",
    "#com que tenen el mateix nom canviem el nom de la columna pIC50 en aquest data frame per preds\n",
    "#aixi identificarem millor les prediccions\n",
    "\n",
    "df_preds.rename(columns={'pIC50': 'preds'}, inplace=True)\n",
    "print(df_preds.columns)"
   ]
  },
  {
   "cell_type": "code",
   "execution_count": 5,
   "metadata": {},
   "outputs": [
    {
     "name": "stdout",
     "output_type": "stream",
     "text": [
      "                                               SMILES     pIC50     preds\n",
      "0   CCn1c(c2CC(C)(C)COC(=O)[C@@H]3CCCN(N3)C(=O)[C@...  7.259637  6.517672\n",
      "1   CCn1c(c2CC(C)(C)COC(=O)[C@@H]3CCCN(N3)C(=O)[C@...  7.259637  6.510593\n",
      "2   CCn1c(c2CC(C)(C)COC(=O)[C@@H]3CCCN(N3)C(=O)[C@...  7.259637  6.669870\n",
      "3   CCn1c(c2CC(C)(C)COC(=O)[C@@H]3CCCN(N3)C(=O)[C@...  6.259637  6.629379\n",
      "4   CO[C@@H](C)c1ncccc1-c1c2CC(C)(C)COC(=O)[C@@H]3...  6.259637  6.463940\n",
      "5   CO[C@@H](C)c1ncccc1-c1c2CC(C)(C)COC(=O)[C@@H]3...  5.259637  6.478708\n",
      "6   CCn1c(c2CC(C)(C)COC(=O)[C@@H]3CCCN(N3)C(=O)[C@...  6.259637  6.746931\n",
      "7   CCn1c(c2CC(C)(C)COC(=O)[C@@H]3CCCN(N3)C(=O)[C@...  6.259637  6.494237\n",
      "8   CCn1c(c2CC(C)(C)COC(=O)[C@@H]3CCCN(N3)C(=O)[C@...  7.259637  6.498597\n",
      "9   CCn1c(c2CC(C)(C)COC(=O)[C@@H]3CCCN(N3)C(=O)[C@...  6.259637  6.265837\n",
      "10  CCn1c(c2CC(C)(C)COC(=O)[C@@H]3CCCN(N3)C(=O)[C@...  7.259637  6.768721\n",
      "11  CCn1c(c2CC(C)(C)COC(=O)[C@@H]3CCCN(N3)C(=O)[C@...  6.259637  6.021120\n",
      "12  CCn1c(c2CC(C)(C)COC(=O)[C@@H]3CCCN(N3)C(=O)[C@...  7.259637  6.297589\n",
      "13  CCn1c(c2CC(C)(C)COC(=O)[C@@H]3CCCN(N3)C(=O)[C@...  7.259637  6.075453\n",
      "14  CCn1c(c2CC(C)(C)COC(=O)[C@@H]3CCCN(N3)C(=O)[C@...  6.259637  6.892873\n",
      "15  CCn1c(c2CC(C)(C)COC(=O)[C@@H]3CCCN(N3)C(=O)[C@...  6.259637  6.290866\n",
      "16  CO[C@@H](C)c1ncccc1-c1c2CC(C)(C)COC(=O)[C@@H]3...  6.259637  7.068554\n",
      "17  CCn1c(c2CC(C)(C)COC(=O)[C@@H]3CCCN(N3)C(=O)[C@...  7.259637  6.615372\n",
      "18  CO[C@@H](C)c1ncccc1-c1c2CC(C)(C)COC(=O)[C@@H]3...  7.259637  6.653328\n",
      "19  CCn1c(c2CC(C)(C)COC(=O)[C@@H]3CCCN(N3)C(=O)[C@...  5.259637  6.278672\n",
      "20  CO[C@@H](C)c1ncccc1-c1c2CC(C)(C)COC(=O)[C@@H]3...  6.259637  6.702308\n",
      "21  CCn1c(c2CC(C)(C)COC(=O)[C@@H]3CCCN(N3)C(=O)[C@...  7.259637  6.215994\n",
      "22  CCn1c(c2CC(C)(C)COC(=O)[C@@H]3CCCN(N3)C(=O)[C@...  6.259637  6.061042\n",
      "23  CCn1c(c2CC(C)(C)COC(=O)[C@@H]3CCCN(N3)C(=O)[C@...  6.259637  6.347357\n",
      "24  CCn1c(c2CC(C)(C)COC(=O)[C@@H]3CCCN(N3)C(=O)[C@...  6.259637  6.700444\n",
      "25  CCn1c(c2CC(C)(C)COC(=O)[C@@H]3CCCN(N3)C(=O)[C@...  6.259637  6.192049\n",
      "26  CCn1c(c2CC(C)(C)COC(=O)[C@@H]3CCCN(N3)C(=O)[C@...  6.259637  6.684580\n",
      "27  CCn1c(c2CC(C)(C)COC(=O)[C@@H]3CCCN(N3)C(=O)[C@...  7.259637  6.128418\n",
      "28  CCn1c(c2CC(C)(C)COC(=O)[C@@H]3CCCN(N3)C(=O)[C@...  7.259637  6.354618\n",
      "29  CCn1c(c2CC(C)(C)COC(=O)[C@@H]3CCCN(N3)C(=O)[C@...  7.259637  6.712693\n",
      "30  CCn1c(c2CC(C)(C)COC(=O)[C@@H]3CCCN(N3)C(=O)[C@...  6.259637  6.372949\n",
      "31  CCn1c(c2CC(C)(C)COC(=O)[C@@H]3CCCN(N3)C(=O)[C@...  7.259637  7.093544\n",
      "32  CCn1c(c2CC(C)(C)COC(=O)[C@@H]3CCCN(N3)C(=O)[C@...  5.259637  6.097751\n",
      "33  CCn1c(c2CC(C)(C)COC(=O)[C@@H]3CCCN(N3)C(=O)[C@...  7.259637  6.102090\n",
      "34  CCn1c(c2CC(C)(C)COC(=O)[C@@H]3CCCN(N3)C(=O)[C@...  7.259637  6.840985\n",
      "35  CCn1c(c2CC(C)(C)COC(=O)[C@@H]3CCCN(N3)C(=O)[C@...  7.259637  6.570189\n",
      "36  CCn1c(c2CC(C)(C)COC(=O)[C@@H]3CCCN(N3)C(=O)[C@...  6.259637  6.145712\n",
      "37  CCn1c(c2CC(C)(C)COC(=O)[C@@H]3CCCN(N3)C(=O)[C@...  7.259637  6.302820\n",
      "38  CCn1c(c2CC(C)(C)COC(=O)[C@@H]3CCCN(N3)C(=O)[C@...  7.259637  6.716846\n",
      "39  CCn1c(c2CC(C)(C)COC(=O)[C@@H]3CCCN(N3)C(=O)[C@...  6.259637  6.347299\n",
      "40  CCn1c(c2CC(C)(C)COC(=O)[C@@H]3CCCN(N3)C(=O)[C@...  7.259637  6.853195\n",
      "41  CCn1c(c2CC(C)(C)COC(=O)[C@@H]3CCCN(N3)C(=O)[C@...  7.259637  6.766764\n",
      "42  CCn1c(c2CC(C)(C)COC(=O)[C@@H]3CCCN(N3)C(=O)[C@...  6.259637  6.262291\n",
      "43  CCn1c(c2CC(C)(C)COC(=O)[C@@H]3CCCN(N3)C(=O)[C@...  7.259637  6.893544\n",
      "44  CCn1c(c2CC(C)(C)COC(=O)[C@@H]3CCCN(N3)C(=O)[C@...  7.259637  6.948634\n",
      "45  CCn1c(c2CC(C)(C)COC(=O)[C@@H]3CCCN(N3)C(=O)[C@...  6.259637  6.100106\n",
      "46  CCn1c(c2CC(C)(C)COC(=O)[C@@H]3CCCN(N3)C(=O)[C@...  7.259637  6.813981\n",
      "47  CCn1c(c2CC(C)(C)COC(=O)[C@@H]3CCCN(N3)C(=O)[C@...  7.259637  6.766239\n",
      "48  CCO[C@@H](C)c1ncccc1-c1c2CC(C)(C)COC(=O)[C@@H]...  7.259637  6.466079\n",
      "49  CCn1c(c2CC(C)(C)COC(=O)[C@@H]3CCCN(N3)C(=O)[C@...  6.259637  6.361418\n",
      "50  CCn1c(c2CC(C)(C)COC(=O)[C@@H]3CCCN(N3)C(=O)[C@...  7.259637  7.007502\n",
      "51  CCn1c(c2CC(C)(C)COC(=O)[C@@H]3CCCN(N3)C(=O)[C@...  7.259637  6.797643\n"
     ]
    }
   ],
   "source": [
    "df = df_true.merge(df_preds, on='SMILES', how='inner')\n",
    "\n",
    "# 'how' determina cómo se realiza la unión, en este caso, 'inner' toma solo las moléculas comunes\n",
    "\n",
    "print(df)"
   ]
  },
  {
   "cell_type": "code",
   "execution_count": 6,
   "metadata": {},
   "outputs": [
    {
     "data": {
      "image/png": "[encoded data removed]",
      "text/plain": [
       "<Figure size 640x480 with 1 Axes>"
      ]
     },
     "metadata": {},
     "output_type": "display_data"
    }
   ],
   "source": [
    "plot_parity(df.pIC50, df.preds)"
   ]
  }
 ],
 "metadata": {
  "kernelspec": {
   "display_name": "base",
   "language": "python",
   "name": "python3"
  },
  "language_info": {
   "codemirror_mode": {
    "name": "ipython",
    "version": 3
   },
   "file_extension": ".py",
   "mimetype": "text/x-python",
   "name": "python",
   "nbconvert_exporter": "python",
   "pygments_lexer": "ipython3",
   "version": "3.9.13"
  },
  "orig_nbformat": 4
 },
 "nbformat": 4,
 "nbformat_minor": 2
}
